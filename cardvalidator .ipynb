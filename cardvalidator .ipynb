{
 "cells": [
  {
   "cell_type": "raw",
   "metadata": {},
   "source": [
    "Credit card numbers follow certain patterns.\n",
    "A credit card number must have between 13 and 16 digits. It must start with:\n",
    "\n",
    "4 for Visa cards\n",
    "5 for Master cards\n",
    "37 for American Express cards\n",
    "6 for Discover cards\n",
    "The problem can be solved by using Luhn algorithm.\n",
    "Luhn check or the Mod 10 check, which can be described as follows (for illustration,\n",
    "consider the card number 4388576018402626):\n",
    "\n",
    "Step 1. Double every second digit from right to left. If doubling of a digit results in a\n",
    "two-digit number, add up the two digits to get a single-digit number (like for 12:1+2, 18=1+8).\n",
    "\n",
    "Step 2. Now add all single-digit numbers from Step 1.\n",
    "4 + 4 + 8 + 2 + 3 + 1 + 7 + 8 = 37\n",
    "\n",
    "Step 3. Add all digits in the odd places from right to left in the card number.\n",
    "6 + 6 + 0 + 8 + 0 + 7 + 8 + 3 = 38\n",
    "\n",
    "Step 4. Sum the results from Step 2 and Step 3.\n",
    "37 + 38 = 75\n",
    "\n",
    "Step 5. If the result from Step 4 is divisible by 10, the card number is valid; otherwise, it is invalid.\n"
   ]
  },
  {
   "cell_type": "code",
   "execution_count": null,
   "metadata": {},
   "outputs": [
    {
     "name": "stdout",
     "output_type": "stream",
     "text": [
      "Enter Credit card Number 4388576018402626\n",
      "Entered Creditcard Number with length  16\n",
      "VISA CARD\n",
      "Enter Credit card Number 3788576018402626\n",
      "Entered Creditcard Number with length  16\n",
      "AMERICAN EXPRESS CARD\n"
     ]
    }
   ],
   "source": [
    "while True:\n",
    "    x = input(\"Enter Credit card Number \").strip()#\"4388576018402626\"#input (\"Enter ur Credit card number \")\n",
    "    if x.isnumeric():\n",
    "        print(\"Entered Creditcard Number with length \",len(x))\n",
    "    \n",
    "        if (x[0] == '4'):\n",
    "            print(\"VISA CARD\")\n",
    "        elif (x[0] == '5'):\n",
    "            print(\"MASTER CARD\")\n",
    "        elif (x[0] == '6'):\n",
    "            print(\"DISCOVER CARD\")\n",
    "        elif (x[0:2] == '37'):\n",
    "            print(\"AMERICAN EXPRESS CARD\")\n",
    "    else:\n",
    "        print(\"INVALID CARD\")"
   ]
  },
  {
   "cell_type": "code",
   "execution_count": null,
   "metadata": {},
   "outputs": [],
   "source": [
    "\n",
    "def lunhsalgo(x):\n",
    "    splitby2 = [x[i:i+2] for i in range(0,len(x),2)]\n",
    "    sumof_two = []\n",
    "\n",
    "    for i in splitby2:\n",
    "        a,b = divmod(int(i),10)\n",
    "        sumof_two.append(a+b)\n",
    "        \n",
    "    splitby3 = [int(x[i]) for i in range(0,len(x)) if i%2 != 0]\n",
    "    return True if ((sum(splitby3)+sum(sumof_two))%10 == 0)else False\n",
    " \n",
    "def validate_card(x):\n",
    "\n",
    "     if x.isnumeric():\n",
    "            print(\"Entered Creditcard Number with length \",len(x))\n",
    "\n",
    "            if (x[0] == '4'):\n",
    "                return \"VISA CARD\",x\n",
    "            elif (x[0] == '5'):\n",
    "                return \"MASTER CARD\",x\n",
    "            elif (x[0] == '6'):\n",
    "                return \"DISCOVER CARD\",x\n",
    "            elif (x[0:2] == '37'):\n",
    "                return \"AMERICAN EXPRESS CARD\",x\n",
    "     else:\n",
    "         return \"INVALID CARD\",x \n",
    "\n",
    "\n",
    "status, cardnumber = validate_card(input(\"Enter Carnumber\").strip())\n",
    "print(\"Status of card\",status,\"valid\",lunhsalgo(cardnumber))\n",
    "     \n",
    "    \n",
    "\n",
    "\n",
    "\n",
    "\n",
    "\n",
    "\n"
   ]
  },
  {
   "cell_type": "code",
   "execution_count": 100,
   "metadata": {},
   "outputs": [
    {
     "name": "stdout",
     "output_type": "stream",
     "text": [
      "True\n"
     ]
    }
   ],
   "source": [
    "def validate_card(card_num):\n",
    "    \"\"\"\n",
    "    Input: Card number, integer or string\n",
    "    Output: Valid?, boolean\n",
    "    \"\"\"\n",
    "    double = 0\n",
    "    total = 0\n",
    "\n",
    "    digits = str(card_num)\n",
    "\n",
    "    for i in range(len(digits) - 1, -1, -1):\n",
    "        for c in str((double + 1) * int(digits[i])):\n",
    "            total += int(c)\n",
    "        #print(total)371449635398430\n",
    "        double = (double + 1) % 2\n",
    "    #print(double)\n",
    "\n",
    "    return (total % 10) == 0\n",
    "x = validate_card(\"XXXXXXXXXXXXXXXXXXXXXXXXXX\")\n",
    "print(x)"
   ]
  },
  {
   "cell_type": "code",
   "execution_count": null,
   "metadata": {},
   "outputs": [],
   "source": []
  }
 ],
 "metadata": {
  "kernelspec": {
   "display_name": "Python 3",
   "language": "python",
   "name": "python3"
  },
  "language_info": {
   "codemirror_mode": {
    "name": "ipython",
    "version": 3
   },
   "file_extension": ".py",
   "mimetype": "text/x-python",
   "name": "python",
   "nbconvert_exporter": "python",
   "pygments_lexer": "ipython3",
   "version": "3.6.5"
  }
 },
 "nbformat": 4,
 "nbformat_minor": 2
}
