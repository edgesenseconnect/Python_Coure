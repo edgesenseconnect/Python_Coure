{
 "cells": [
  {
   "cell_type": "code",
   "execution_count": 1,
   "metadata": {},
   "outputs": [
    {
     "name": "stdout",
     "output_type": "stream",
     "text": [
      "WorkerWorker\n",
      "\n",
      "Worker\n",
      "Worker\n",
      "Worker\n"
     ]
    }
   ],
   "source": [
    "import threading\n",
    "\n",
    "\n",
    "def worker():\n",
    "    \"\"\"thread worker function\"\"\"\n",
    "    print('Worker')\n",
    "\n",
    "\n",
    "threads = []\n",
    "for i in range(5):\n",
    "    t = threading.Thread(target=worker)\n",
    "    threads.append(t)\n",
    "    t.start()"
   ]
  },
  {
   "cell_type": "code",
   "execution_count": null,
   "metadata": {},
   "outputs": [],
   "source": [
    "import threading\n",
    "\n",
    "def worker(num):\n",
    "    \"\"\"thread worker function\"\"\"\n",
    "    print ('Worker: %s' % num)\n",
    "    return\n",
    "\n",
    "threads = []\n",
    "for i in range(5):\n",
    "    t = threading.Thread(target=worker, args=(i,))\n",
    "    print(t)\n",
    "    threads.append(t)\n",
    "    t.start()\n",
    "help(threading)"
   ]
  },
  {
   "cell_type": "code",
   "execution_count": null,
   "metadata": {},
   "outputs": [],
   "source": [
    "import threading\n",
    "import time\n",
    "\n",
    "def worker():\n",
    "    print (threading.currentThread().getName(), 'Starting')\n",
    "    time.sleep(2)\n",
    "    print (threading.currentThread().getName(), 'Exiting')\n",
    "\n",
    "def my_service():\n",
    "    print (threading.currentThread().getName(), 'Starting')\n",
    "    time.sleep(3)\n",
    "    print (threading.currentThread().getName(), 'Exiting')\n",
    "\n",
    "\n",
    "t = threading.Thread(name='my_service', target=my_service)\n",
    "w = threading.Thread(name='worker', target=worker)\n",
    "w2 = threading.Thread(target=worker) # use default name\n",
    "\n",
    "w.start()\n",
    "w2.start()\n",
    "t.start()\n",
    "t = threading.Thread(name='my_service', target=my_service)\n",
    "w = threading.Thread(name='worker', target=worker)\n",
    "w2 = threading.Thread(target=worker) # use default name\n",
    "\n",
    "w.start()\n",
    "w2.start()\n",
    "t.start()"
   ]
  },
  {
   "cell_type": "code",
   "execution_count": null,
   "metadata": {},
   "outputs": [],
   "source": [
    "import logging\n",
    "import threading\n",
    "import time\n",
    "\n",
    "logging.basicConfig(level=logging.DEBUG,\n",
    "                    format='[%(levelname)s] (%(threadName)-10s) %(message)s',\n",
    "                    )\n",
    "\n",
    "def worker():\n",
    "    logging.debug('Starting')\n",
    "    time.sleep(2)\n",
    "    logging.debug('Exiting')\n",
    "\n",
    "def my_service():\n",
    "    logging.debug('Starting')\n",
    "    time.sleep(3)\n",
    "    logging.debug('Exiting')\n",
    "\n",
    "t = threading.Thread(name='my_service', target=my_service)\n",
    "w = threading.Thread(name='worker', target=worker)\n",
    "w2 = threading.Thread(target=worker) # use default name\n",
    "\n",
    "w.start()\n",
    "w2.start()\n",
    "t.start()"
   ]
  },
  {
   "cell_type": "code",
   "execution_count": null,
   "metadata": {},
   "outputs": [],
   "source": [
    "import threading\n",
    "import time\n",
    "import logging\n",
    "\n",
    "logging.basicConfig(level=logging.DEBUG,\n",
    "                    format='(%(threadName)-10s) %(message)s',\n",
    "                    )\n",
    "\n",
    "def daemon():\n",
    "    logging.debug('Starting')\n",
    "    time.sleep(2)\n",
    "    logging.debug('Exiting')\n",
    "\n",
    "d = threading.Thread(name='daemon', target=daemon)\n",
    "d.setDaemon(True)\n",
    "\n",
    "def non_daemon():\n",
    "    logging.debug('Starting')\n",
    "    logging.debug('Exiting')\n",
    "\n",
    "t = threading.Thread(name='non-daemon', target=non_daemon)\n",
    "\n",
    "d.start()\n",
    "t.start()"
   ]
  },
  {
   "cell_type": "code",
   "execution_count": 9,
   "metadata": {},
   "outputs": [
    {
     "name": "stderr",
     "output_type": "stream",
     "text": [
      "[DEBUG] (daemon    ) Starting\n",
      "[DEBUG] (non-daemon) Starting\n",
      "[DEBUG] (non-daemon) Exiting\n",
      "[DEBUG] (daemon    ) Exiting\n"
     ]
    }
   ],
   "source": [
    "import threading\n",
    "import time\n",
    "import logging\n",
    "\n",
    "logging.basicConfig(level=logging.DEBUG,\n",
    "                    format='(%(threadName)-10s) %(message)s',\n",
    "                    )\n",
    "\n",
    "def daemon():\n",
    "    logging.debug('Starting')\n",
    "    time.sleep(2)\n",
    "    logging.debug('Exiting')\n",
    "\n",
    "d = threading.Thread(name='daemon', target=daemon)\n",
    "d.setDaemon(True)\n",
    "\n",
    "def non_daemon():\n",
    "    logging.debug('Starting')\n",
    "    logging.debug('Exiting')\n",
    "\n",
    "t = threading.Thread(name='non-daemon', target=non_daemon)\n",
    "\n",
    "d.start()\n",
    "t.start()\n",
    "\n",
    "d.join()\n",
    "t.join()"
   ]
  },
  {
   "cell_type": "code",
   "execution_count": 15,
   "metadata": {},
   "outputs": [
    {
     "name": "stderr",
     "output_type": "stream",
     "text": [
      "[DEBUG] (daemon    ) Starting\n",
      "[DEBUG] (non-daemon) Starting\n",
      "[DEBUG] (non-daemon) Exiting\n"
     ]
    },
    {
     "name": "stdout",
     "output_type": "stream",
     "text": [
      "d.isAlive() True\n"
     ]
    },
    {
     "name": "stderr",
     "output_type": "stream",
     "text": [
      "[DEBUG] (daemon    ) Exiting\n"
     ]
    }
   ],
   "source": [
    "import threading\n",
    "import time\n",
    "import logging\n",
    "\n",
    "logging.basicConfig(level=logging.DEBUG,\n",
    "                    format='(%(threadName)-10s) %(message)s',\n",
    "                    )\n",
    "\n",
    "def daemon():\n",
    "    logging.debug('Starting')\n",
    "    time.sleep(5)\n",
    "    logging.debug('Exiting')\n",
    "\n",
    "d = threading.Thread(name='daemon', target=daemon)\n",
    "d.setDaemon(True)\n",
    "\n",
    "def non_daemon():\n",
    "    logging.debug('Starting')\n",
    "   \n",
    "    logging.debug('Exiting')\n",
    "\n",
    "t = threading.Thread(name='non-daemon', target=non_daemon)\n",
    "\n",
    "d.start()\n",
    "t.start()\n",
    "\n",
    "d.join(1)\n",
    "print ('d.isAlive()', d.isAlive())\n",
    "t.join()"
   ]
  },
  {
   "cell_type": "markdown",
   "metadata": {},
   "source": [
    "By default, join() blocks indefinitely. It is also possible to pass a timeout argument (a float representing the number of seconds to wait for the thread to become inactive). If the thread does not complete within the timeout period, join() returns anyway."
   ]
  },
  {
   "cell_type": "markdown",
   "metadata": {},
   "source": [
    "It is not necessary to retain an explicit handle to all of the daemon threads in order to ensure they have completed before exiting the main process. enumerate() returns a list of active Thread instances. The list includes the current thread, and since joining the current thread is not allowed (it introduces a deadlock situation), it must be skipped."
   ]
  },
  {
   "cell_type": "code",
   "execution_count": 16,
   "metadata": {},
   "outputs": [
    {
     "name": "stderr",
     "output_type": "stream",
     "text": [
      "[DEBUG] (Thread-32 ) sleeping 5\n",
      "[DEBUG] (Thread-33 ) sleeping 5\n",
      "[DEBUG] (Thread-34 ) sleeping 1\n",
      "[DEBUG] (MainThread) joining Thread-2\n",
      "[DEBUG] (MainThread) joining Thread-3\n",
      "[DEBUG] (MainThread) joining IPythonHistorySavingThread\n",
      "[DEBUG] (MainThread) joining Thread-1\n",
      "[DEBUG] (MainThread) joining Thread-32\n",
      "[DEBUG] (MainThread) joining Thread-33\n",
      "[DEBUG] (MainThread) joining Thread-34\n",
      "[DEBUG] (Thread-34 ) ending\n",
      "[DEBUG] (Thread-33 ) ending\n",
      "[DEBUG] (Thread-32 ) ending\n"
     ]
    }
   ],
   "source": [
    "import random\n",
    "import threading\n",
    "import time\n",
    "import logging\n",
    "\n",
    "logging.basicConfig(level=logging.DEBUG,\n",
    "                    format='(%(threadName)-10s) %(message)s',\n",
    "                    )\n",
    "\n",
    "def worker():\n",
    "    \"\"\"thread worker function\"\"\"\n",
    "    t = threading.currentThread()\n",
    "    pause = random.randint(1,5)\n",
    "    logging.debug('sleeping %s', pause)\n",
    "    time.sleep(pause)\n",
    "    logging.debug('ending')\n",
    "    return\n",
    "\n",
    "for i in range(3):\n",
    "    t = threading.Thread(target=worker)\n",
    "    t.setDaemon(True)\n",
    "    t.start()\n",
    "\n",
    "main_thread = threading.currentThread()\n",
    "for t in threading.enumerate():\n",
    "    if t is main_thread:\n",
    "        continue\n",
    "    logging.debug('joining %s', t.getName())"
   ]
  },
  {
   "cell_type": "code",
   "execution_count": null,
   "metadata": {},
   "outputs": [],
   "source": []
  }
 ],
 "metadata": {
  "kernelspec": {
   "display_name": "Python 3",
   "language": "python",
   "name": "python3"
  },
  "language_info": {
   "codemirror_mode": {
    "name": "ipython",
    "version": 3
   },
   "file_extension": ".py",
   "mimetype": "text/x-python",
   "name": "python",
   "nbconvert_exporter": "python",
   "pygments_lexer": "ipython3",
   "version": "3.6.7"
  }
 },
 "nbformat": 4,
 "nbformat_minor": 2
}
