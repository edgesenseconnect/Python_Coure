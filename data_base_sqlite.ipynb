{
 "cells": [
  {
   "cell_type": "code",
   "execution_count": 7,
   "metadata": {},
   "outputs": [
    {
     "name": "stdout",
     "output_type": "stream",
     "text": [
      "CREATE TABLE employ(id integer PRIMARY KEY, name text, salary real,department text, position text, hireDate text)\n",
      "CREATE TABLE employe(id integer PRIMARY KEY, name text, salary real, department text, position text, hireDate text)\n"
     ]
    }
   ],
   "source": [
    "import sqlite3\n",
    "\n",
    "from sqlite3 import Error\n",
    " \n",
    "def sql_connection():\n",
    " \n",
    "    try:\n",
    " \n",
    "        con = sqlite3.connect('mydatabase1.db')\n",
    " \n",
    "        return con\n",
    " \n",
    "    except Error:\n",
    " \n",
    "        print(Error)\n",
    " \n",
    "def sql_table(con):\n",
    " \n",
    "    \n",
    "    table1 = \"CREATE TABLE employ(id integer PRIMARY KEY, name text, salary real,department text, position text, hireDate text)\"\n",
    "    table2 = \"CREATE TABLE employe(id integer PRIMARY KEY, name text, salary real, department text, position text, hireDate text)\"\n",
    "    for i in [table1,table2]:\n",
    "        print(i)\n",
    "        cursorObj = con.cursor()\n",
    "        cursorObj.execute(i)\n",
    "\n",
    "        con.commit()\n",
    " \n",
    "con = sql_connection()\n",
    " \n",
    "sql_table(con)"
   ]
  },
  {
   "cell_type": "code",
   "execution_count": 9,
   "metadata": {},
   "outputs": [
    {
     "ename": "OperationalError",
     "evalue": "no such table: employee1",
     "output_type": "error",
     "traceback": [
      "\u001b[0;31m---------------------------------------------------------------------------\u001b[0m",
      "\u001b[0;31mOperationalError\u001b[0m                          Traceback (most recent call last)",
      "\u001b[0;32m<ipython-input-9-d4b0e6db195c>\u001b[0m in \u001b[0;36m<module>\u001b[0;34m\u001b[0m\n\u001b[1;32m     20\u001b[0m \u001b[0;34m\u001b[0m\u001b[0m\n\u001b[1;32m     21\u001b[0m \u001b[0;32mfor\u001b[0m \u001b[0mentities\u001b[0m \u001b[0;32min\u001b[0m \u001b[0;34m[\u001b[0m\u001b[0mentities0\u001b[0m\u001b[0;34m,\u001b[0m\u001b[0mentities1\u001b[0m\u001b[0;34m,\u001b[0m\u001b[0mentities2\u001b[0m\u001b[0;34m,\u001b[0m\u001b[0mentities3\u001b[0m\u001b[0;34m]\u001b[0m\u001b[0;34m:\u001b[0m\u001b[0;34m\u001b[0m\u001b[0;34m\u001b[0m\u001b[0m\n\u001b[0;32m---> 22\u001b[0;31m     \u001b[0msql_insert\u001b[0m\u001b[0;34m(\u001b[0m\u001b[0mcon\u001b[0m\u001b[0;34m,\u001b[0m \u001b[0mentities\u001b[0m\u001b[0;34m)\u001b[0m\u001b[0;34m\u001b[0m\u001b[0;34m\u001b[0m\u001b[0m\n\u001b[0m",
      "\u001b[0;32m<ipython-input-9-d4b0e6db195c>\u001b[0m in \u001b[0;36msql_insert\u001b[0;34m(con, entities)\u001b[0m\n\u001b[1;32m      7\u001b[0m     \u001b[0mcursorObj\u001b[0m \u001b[0;34m=\u001b[0m \u001b[0mcon\u001b[0m\u001b[0;34m.\u001b[0m\u001b[0mcursor\u001b[0m\u001b[0;34m(\u001b[0m\u001b[0;34m)\u001b[0m\u001b[0;34m\u001b[0m\u001b[0;34m\u001b[0m\u001b[0m\n\u001b[1;32m      8\u001b[0m \u001b[0;34m\u001b[0m\u001b[0m\n\u001b[0;32m----> 9\u001b[0;31m     \u001b[0mcursorObj\u001b[0m\u001b[0;34m.\u001b[0m\u001b[0mexecute\u001b[0m\u001b[0;34m(\u001b[0m\u001b[0;34m'INSERT INTO employee1(id, name, salary, department, position, hireDate) VALUES(?, ?, ?, ?, ?, ?)'\u001b[0m\u001b[0;34m,\u001b[0m \u001b[0mentities\u001b[0m\u001b[0;34m)\u001b[0m\u001b[0;34m\u001b[0m\u001b[0;34m\u001b[0m\u001b[0m\n\u001b[0m\u001b[1;32m     10\u001b[0m \u001b[0;34m\u001b[0m\u001b[0m\n\u001b[1;32m     11\u001b[0m     \u001b[0mcon\u001b[0m\u001b[0;34m.\u001b[0m\u001b[0mcommit\u001b[0m\u001b[0;34m(\u001b[0m\u001b[0;34m)\u001b[0m\u001b[0;34m\u001b[0m\u001b[0;34m\u001b[0m\u001b[0m\n",
      "\u001b[0;31mOperationalError\u001b[0m: no such table: employee1"
     ]
    }
   ],
   "source": [
    "import sqlite3\n",
    " \n",
    "con = sqlite3.connect('mydatabase.db')\n",
    " \n",
    "def sql_insert(con, entities):\n",
    " \n",
    "    cursorObj = con.cursor()\n",
    "    \n",
    "    cursorObj.execute('INSERT INTO employee1(id, name, salary, department, position, hireDate) VALUES(?, ?, ?, ?, ?, ?)', entities)\n",
    "    \n",
    "    con.commit()\n",
    " \n",
    "entities0 = (2, 'Andrew', 800, 'IT', 'Tech', '2018-02-06')\n",
    " \n",
    "entities1 = (3, 'ert', 800, 'ITI', 'Tech', '2018-02-06')\n",
    " \n",
    "entities2 = (4, 'tre', 800, 'IIT', 'Tech', '2018-02-06')\n",
    " \n",
    "entities3 = (5, 'sdf', 800, 'IWT', 'Tech', '2018-02-06')\n",
    "\n",
    "for entities in [entities0,entities1,entities2,entities3]:\n",
    "    sql_insert(con, entities)"
   ]
  },
  {
   "cell_type": "code",
   "execution_count": 18,
   "metadata": {},
   "outputs": [],
   "source": [
    "import sqlite3\n",
    " \n",
    "con = sqlite3.connect('mydatabase.db')\n",
    " \n",
    "def sql_update(con):\n",
    " \n",
    "    cursorObj = con.cursor()\n",
    " \n",
    "    cursorObj.execute('UPDATE employees SET name = \"Rogers\" where id = 2')\n",
    " \n",
    "    con.commit()\n",
    " \n",
    "sql_update(con)"
   ]
  },
  {
   "cell_type": "code",
   "execution_count": 69,
   "metadata": {},
   "outputs": [
    {
     "name": "stdout",
     "output_type": "stream",
     "text": [
      "Rogers\n"
     ]
    }
   ],
   "source": [
    "import sqlite3\n",
    " \n",
    "con = sqlite3.connect('mydatabase.db')\n",
    " \n",
    "def sql_fetch(con):\n",
    " \n",
    "    cursorObj = con.cursor()\n",
    " \n",
    "    cursorObj.execute('SELECT * FROM employees')\n",
    " \n",
    "    rows = cursorObj.fetchall()\n",
    " \n",
    "    for row in rows:\n",
    " \n",
    "        print(row[1])\n",
    " \n",
    "sql_fetch(con)"
   ]
  },
  {
   "cell_type": "code",
   "execution_count": 68,
   "metadata": {},
   "outputs": [
    {
     "name": "stdout",
     "output_type": "stream",
     "text": [
      "(2, 'Rogers', 800.0, 'IT', 'Tech', '2018-02-06')\n"
     ]
    }
   ],
   "source": [
    "\n",
    "import sqlite3\n",
    " \n",
    "con = sqlite3.connect('mydatabase.db')\n",
    " \n",
    "def sql_fetch(con):\n",
    " \n",
    "    cursorObj = con.cursor()\n",
    " \n",
    "    cursorObj.execute('SELECT id, name FROM employees WHERE salary > 800.0')\n",
    " \n",
    "    rows = cursorObj.fetchall()\n",
    " \n",
    "    for row in rows:\n",
    " \n",
    "        print(row)\n",
    " \n",
    "sql_fetch(con)"
   ]
  },
  {
   "cell_type": "code",
   "execution_count": 5,
   "metadata": {},
   "outputs": [
    {
     "name": "stdout",
     "output_type": "stream",
     "text": [
      "[('projects',), ('employees',)]\n"
     ]
    }
   ],
   "source": [
    "import sqlite3\n",
    " \n",
    "con = sqlite3.connect('mydatabase.db')\n",
    " \n",
    "def sql_fetch(con):\n",
    " \n",
    "    cursorObj = con.cursor()\n",
    " \n",
    "    cursorObj.execute('SELECT name from sqlite_master where type= \"table\"')\n",
    " \n",
    "    print(cursorObj.fetchall())\n",
    " \n",
    "sql_fetch(con)"
   ]
  },
  {
   "cell_type": "code",
   "execution_count": 22,
   "metadata": {},
   "outputs": [],
   "source": [
    "\n",
    "import sqlite3\n",
    " \n",
    "con = sqlite3.connect('mydatabase.db')\n",
    " \n",
    "def sql_fetch(con):\n",
    " \n",
    "    cursorObj = con.cursor()\n",
    " \n",
    "    cursorObj.execute('create table if not exists projects(id integer, name text)')\n",
    " \n",
    "    con.commit()\n",
    " \n",
    "sql_fetch(con)"
   ]
  },
  {
   "cell_type": "code",
   "execution_count": null,
   "metadata": {},
   "outputs": [],
   "source": [
    "import sqlite3\n",
    " \n",
    "con = sqlite3.connect('mydatabase.db')\n",
    " \n",
    "def sql_fetch(con):\n",
    " \n",
    "    cursorObj = con.cursor()\n",
    " \n",
    "    cursorObj.execute('DROP table if exists employees')\n",
    " \n",
    "    con.commit()\n",
    " \n",
    "sql_fetch(con)"
   ]
  },
  {
   "cell_type": "code",
   "execution_count": 61,
   "metadata": {},
   "outputs": [
    {
     "name": "stdout",
     "output_type": "stream",
     "text": [
      "Enter 1 for registration\n",
      " Enter 2 for login\n",
      " and 3 for updatepassword1\n",
      "Username:111\n",
      "Password:········\n"
     ]
    }
   ],
   "source": [
    "\n",
    "import sqlite3\n",
    "import random\n",
    "import getpass\n",
    "\n",
    "    \n",
    "\n",
    "def registration(cur):\n",
    "    user = input (\"Username:\")\n",
    "    pswd = input(\"Password:\")\n",
    "    cursor = cur.cursor()\n",
    "    \n",
    "    cursor.execute('INSERT INTO usercredentials(username, password) VALUES(?, ?)', (user,pswd))\n",
    "    cur.commit()\n",
    " \n",
    "    \n",
    "def login(cur):\n",
    "    \n",
    "    cursor = cur.cursor()\n",
    "    user = input (\"Username\")    \n",
    "    pswd = input(\"Password:\")\n",
    "    cursor.execute('SELECT * from usercredentials WHERE username=\"%s\" AND password=\"%s\"' % (user, pswd))\n",
    "    if cursor.fetchone() is not None:\n",
    "        print (\"Welcome Ur OTP:\",random.randint(999,10000))\n",
    "    else:\n",
    "        print (\"Login failed\")\n",
    " \n",
    "\n",
    "def updatepassword(cur):\n",
    "\n",
    "    cursor = cur.cursor()\n",
    "    user = input (\"Username\")\n",
    "    pswd = input(\"Password:\")      \n",
    "    cursor.execute('SELECT * from usercredentials WHERE username=\"%s\" AND password=\"%s\"' % (user, pswd))\n",
    "        \n",
    "                   \n",
    "    if cursor.fetchone() is not None:\n",
    "        pswd = input(\"Enter new password :\") \n",
    "        cursor.execute('UPDATE usercredentials SET password=\"%s\" where username=\"%s\"'% (pswd,user))\n",
    "        \n",
    "        \n",
    "        \n",
    "    else:\n",
    "        print (\"Login failed\")\n",
    "\n",
    "def deleteUser(cur):\n",
    "\n",
    "    cursor = cur.cursor()\n",
    "    user = input (\"Username\")\n",
    "    pswd = input(\"Password:\")      \n",
    "    cursor.execute('SELECT * from usercredentials WHERE username=\"%s\" AND password=\"%s\"' % (user, pswd))\n",
    "        \n",
    "                   \n",
    "    if cursor.fetchone() is not None:\n",
    "        \n",
    "        cursor.execute('DELETE FROM usercredentials WHERE username=\"%s\"' % (user))\n",
    "        print ('\"%s\" deleted from DataBase'%(user))              \n",
    "        \n",
    "    else:\n",
    "        print (\"Login failed\")\n",
    "        \n",
    "def deleteTable(cur):\n",
    "    cursor = cur.cursor()\n",
    "    user = input (\"Username\")\n",
    "    pswd = input(\"Password:\")      \n",
    "    cursor.execute('DROP TABLE usercredentials ')\n",
    "        \n",
    "  \n",
    "    \n",
    "    \n",
    "\n",
    "def main():\n",
    "    \n",
    "    mode = int (input(\"Enter 1 for registration\\n Enter 2 for login\\n and 3 for updatepassword\"))\n",
    "    db = sqlite3.connect('login.db')\n",
    "    c = db.cursor()\n",
    "    c.execute('create table if not exists usercredentials \\\n",
    "              (ID INTEGER PRIMARY KEY AUTOINCREMENT, username text NOT NULL, password text NOT NULL);')\n",
    "    \n",
    "    if mode ==1:\n",
    "        registration(db)\n",
    "    elif mode ==2:\n",
    "        login(db)\n",
    "    elif mode == 3:\n",
    "        updatePassword(db)\n",
    "    elif mode == 4:\n",
    "        deleteUser(db)\n",
    "    elif mode == 5:\n",
    "        deleteTable(db)\n",
    "    else:\n",
    "        print(\"enter valid mode\")\n",
    "    #cursor.close()\n",
    "    \n",
    "    db.commit()\n",
    "    db.close()\n",
    "    \n",
    "if __name__ == '__main__':\n",
    "    main()\n",
    "  \n",
    "        \n",
    "\n",
    "    \n",
    "\n",
    "\n",
    "\n",
    "    "
   ]
  },
  {
   "cell_type": "code",
   "execution_count": 62,
   "metadata": {},
   "outputs": [
    {
     "name": "stdout",
     "output_type": "stream",
     "text": [
      "[(1, '111', '111')]\n"
     ]
    }
   ],
   "source": [
    "import sqlite3\n",
    "db = sqlite3.connect('login.db')\n",
    "c = db.cursor()\n",
    "c.execute('create table if not exists usercredentials \\\n",
    "              (ID INTEGER PRIMARY KEY AUTOINCREMENT, username text NOT NULL, password text NOT NULL);')\n",
    "\n",
    "c.execute('SELECT * FROM usercredentials')\n",
    "row = c.fetchall()\n",
    "print(row)\n",
    "#for i in row:\n",
    "#    print(i)\n",
    "db.close()\n",
    "\n"
   ]
  },
  {
   "cell_type": "code",
   "execution_count": null,
   "metadata": {},
   "outputs": [],
   "source": []
  }
 ],
 "metadata": {
  "kernelspec": {
   "display_name": "Python 3",
   "language": "python",
   "name": "python3"
  },
  "language_info": {
   "codemirror_mode": {
    "name": "ipython",
    "version": 3
   },
   "file_extension": ".py",
   "mimetype": "text/x-python",
   "name": "python",
   "nbconvert_exporter": "python",
   "pygments_lexer": "ipython3",
   "version": "3.6.8"
  }
 },
 "nbformat": 4,
 "nbformat_minor": 2
}
