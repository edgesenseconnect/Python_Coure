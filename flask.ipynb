{
 "cells": [
  {
   "cell_type": "code",
   "execution_count": 4,
   "metadata": {},
   "outputs": [
    {
     "name": "stderr",
     "output_type": "stream",
     "text": [
      " * Running on http://localhost:9000/ (Press CTRL+C to quit)\n",
      "127.0.0.1 - - [25/Mar/2019 11:46:39] \"\u001b[37mGET / HTTP/1.1\u001b[0m\" 200 -\n",
      "127.0.0.1 - - [25/Mar/2019 11:47:13] \"\u001b[37mGET /quarks HTTP/1.1\u001b[0m\" 200 -\n",
      "127.0.0.1 - - [25/Mar/2019 11:49:32] \"\u001b[37mGET /quarks/up HTTP/1.1\u001b[0m\" 200 -\n",
      "127.0.0.1 - - [25/Mar/2019 11:49:56] \"\u001b[37mPOST /quarks HTTP/1.1\u001b[0m\" 200 -\n",
      "127.0.0.1 - - [25/Mar/2019 11:51:23] \"\u001b[37mPOST /quarks HTTP/1.1\u001b[0m\" 200 -\n",
      "127.0.0.1 - - [25/Mar/2019 12:13:17] \"\u001b[37mGET / HTTP/1.1\u001b[0m\" 200 -\n"
     ]
    }
   ],
   "source": [
    "from flask import Flask\n",
    "from flask import jsonify\n",
    "from flask import request\n",
    "from werkzeug.wrappers import Request, Response\n",
    "\n",
    "app = Flask(__name__)\n",
    "\n",
    "\n",
    "quarks = [{'name': 'up', 'charge': '+2/3'},\n",
    "          {'name': 'down', 'charge': '-1/3'},\n",
    "          {'name': 'charm', 'charge': '+2/3'},\n",
    "          {'name': 'strange', 'charge': '-1/3'}]\n",
    "\n",
    "@app.route('/', methods=['GET'])\n",
    "def hello_world():\n",
    "    return jsonify({'message' : 'Hello, World!'})\n",
    "\n",
    "@app.route('/quarks', methods=['GET'])\n",
    "def returnAll():\n",
    "    return jsonify({'quarks' : quarks})\n",
    "\n",
    "@app.route('/quarks/<string:name>', methods=['GET'])\n",
    "def returnOne(name):\n",
    "    theOne = quarks[0]\n",
    "    for i,q in enumerate(quarks):\n",
    "      if q['name'] == name:\n",
    "        theOne = quarks[i]\n",
    "    return jsonify({'quarks' : theOne})\n",
    "\n",
    "@app.route('/quarks', methods=['POST'])\n",
    "def addOne():\n",
    "    new_quark = request.get_json()\n",
    "    quarks.append(new_quark)\n",
    "    return jsonify({'quarks' : quarks})\n",
    "\n",
    "@app.route('/quarks/<string:name>', methods=['PUT'])\n",
    "def editOne(name):\n",
    "    new_quark = request.get_json()\n",
    "    for i,q in enumerate(quarks):\n",
    "      if q['name'] == name:\n",
    "        quarks[i] = new_quark    \n",
    "    qs = request.get_json()\n",
    "    return jsonify({'quarks' : quarks})\n",
    "\n",
    "@app.route('/quarks/<string:name>', methods=['DELETE'])\n",
    "def deleteOne(name):\n",
    "    for i,q in enumerate(quarks):\n",
    "      if q['name'] == name:\n",
    "        del quarks[i]  \n",
    "    return jsonify({'quarks' : quarks})\n",
    "\n",
    "if __name__ == \"__main__\":\n",
    "    from werkzeug.serving import run_simple\n",
    "    \n",
    "   \n",
    "    run_simple('localhost', 9000, app)"
   ]
  },
  {
   "cell_type": "code",
   "execution_count": 5,
   "metadata": {},
   "outputs": [],
   "source": []
  },
  {
   "cell_type": "code",
   "execution_count": null,
   "metadata": {},
   "outputs": [],
   "source": []
  },
  {
   "cell_type": "code",
   "execution_count": null,
   "metadata": {},
   "outputs": [],
   "source": [
    "\n"
   ]
  },
  {
   "cell_type": "code",
   "execution_count": null,
   "metadata": {},
   "outputs": [],
   "source": []
  }
 ],
 "metadata": {
  "kernelspec": {
   "display_name": "Python 3",
   "language": "python",
   "name": "python3"
  },
  "language_info": {
   "codemirror_mode": {
    "name": "ipython",
    "version": 3
   },
   "file_extension": ".py",
   "mimetype": "text/x-python",
   "name": "python",
   "nbconvert_exporter": "python",
   "pygments_lexer": "ipython3",
   "version": "3.6.5"
  }
 },
 "nbformat": 4,
 "nbformat_minor": 2
}
