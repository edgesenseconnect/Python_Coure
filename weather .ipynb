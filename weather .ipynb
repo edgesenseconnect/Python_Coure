{
 "cells": [
  {
   "cell_type": "code",
   "execution_count": 50,
   "metadata": {},
   "outputs": [
    {
     "name": "stdout",
     "output_type": "stream",
     "text": [
      "<pyowm.weatherapi25.weather.Weather - reference time=2019-05-03 10:37:42+00, status=clouds, detailed status=few clouds>\n",
      "{'temp': 32.2, 'temp_max': 33.0, 'temp_min': 30.56, 'temp_kf': None}\n"
     ]
    }
   ],
   "source": [
    "import pyowm\n",
    "\n",
    "owm = pyowm.OWM('600ee2ea93eb9fed31b58b0ae8f74d43')  # You MUST provide a valid API key\n",
    "\n",
    "# Have a pro subscription? Then use:\n",
    "# owm = pyowm.OWM(API_key='your-API-key', subscription_type='pro')\n",
    "\n",
    "# Search for current weather in London (Great Britain)\n",
    "observation = owm.weather_at_place('Bangalore, IN')\n",
    "w = observation.get_weather()\n",
    "print(w)                      # <Weather - reference time=2013-12-18 09:20,\n",
    "                              # status=Clouds>\n",
    "\n",
    "# Weather details\n",
    "w.get_wind()                  # {'speed': 4.6, 'deg': 330}\n",
    "w.get_humidity()              # 87\n",
    "print(w.get_temperature('celsius'))  # {'temp_max': 10.5, 'temp': 9.7, 'temp_min': 9.0}\n",
    "\n"
   ]
  },
  {
   "cell_type": "code",
   "execution_count": null,
   "metadata": {},
   "outputs": [],
   "source": []
  },
  {
   "cell_type": "code",
   "execution_count": 62,
   "metadata": {},
   "outputs": [
    {
     "name": "stdout",
     "output_type": "stream",
     "text": [
      "[{'id': 800, 'main': 'Clear', 'description': 'clear sky', 'icon': '01d'}]\n",
      "{'coord': {'lon': 77.6, 'lat': 12.98}, 'weather': [{'id': 800, 'main': 'Clear', 'description': 'clear sky', 'icon': '01d'}], 'base': 'stations', 'main': {'temp': 305.28, 'pressure': 1010, 'humidity': 32, 'temp_min': 303.71, 'temp_max': 307.15}, 'visibility': 10000, 'wind': {'speed': 3.1, 'deg': 270}, 'clouds': {'all': 0}, 'dt': 1556881062, 'sys': {'type': 1, 'id': 9205, 'message': 0.0056, 'country': 'IN', 'sunrise': 1556843294, 'sunset': 1556888682}, 'id': 1277333, 'name': 'Bangalore', 'cod': 200}\n"
     ]
    }
   ],
   "source": [
    "import requests\n",
    "import json\n",
    "headers = {'content-type': 'application/json'}\n",
    "#r = requests.get('http://api.openweathermap.org/data/2.5/weather',params={'q': 'London,uk', 'APPID': '600ee2ea93eb9fed31b58b0ae8f74d43'})#?lat=35&lon=139&appid=600ee2ea93eb9fed31b58b0ae8f74d43')\n",
    "r = requests.get('http://api.openweathermap.org/data/2.5/weather?appid=600ee2ea93eb9fed31b58b0ae8f74d43&q=Bangalore,IN',headers = headers)\n",
    "k = json.loads(r.content)\n",
    "print(k['weather'])\n",
    "print(k)\n",
    "\n",
    "# params={'q': 'London,uk', 'APPID': 600ee2ea93eb9fed31b58b0ae8f74d43}"
   ]
  },
  {
   "cell_type": "code",
   "execution_count": null,
   "metadata": {},
   "outputs": [],
   "source": []
  }
 ],
 "metadata": {
  "kernelspec": {
   "display_name": "Python 3",
   "language": "python",
   "name": "python3"
  },
  "language_info": {
   "codemirror_mode": {
    "name": "ipython",
    "version": 3
   },
   "file_extension": ".py",
   "mimetype": "text/x-python",
   "name": "python",
   "nbconvert_exporter": "python",
   "pygments_lexer": "ipython3",
   "version": "3.6.5"
  }
 },
 "nbformat": 4,
 "nbformat_minor": 2
}
