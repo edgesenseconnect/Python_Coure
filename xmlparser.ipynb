{
 "cells": [
  {
   "cell_type": "code",
   "execution_count": null,
   "metadata": {},
   "outputs": [],
   "source": [
    "import feedparser\n",
    "NewsFeed = feedparser.parse(\"https://timesofindia.indiatimes.com/rssfeedstopstories.cms\")\n",
    "\n",
    "rss_feeds = len(NewsFeed.entries)\n",
    "for i in range(rss_feeds):\n",
    "    entry = NewsFeed.entries[i]\n",
    "\n",
    "    print (\"******\")\n",
    "    print (\"title:\",entry.title)\n",
    "    print (\"Description:\",entry.description)\n",
    "    print (\"******\")\n"
   ]
  },
  {
   "cell_type": "code",
   "execution_count": 50,
   "metadata": {},
   "outputs": [
    {
     "name": "stdout",
     "output_type": "stream",
     "text": [
      "data\n",
      "country {'name': 'Liechtenstein'}\n",
      "country {'name': 'Singapore'}\n",
      "country {'name': 'Panama'}\n"
     ]
    }
   ],
   "source": [
    "import xml.etree.ElementTree as ET\n",
    "tree = ET.parse('xmldata.xml')\n",
    "root = tree.getroot()\n",
    "print(root.tag)\n",
    "\n",
    "for child in root:\n",
    "    print (child.tag, child.attrib)\n"
   ]
  },
  {
   "cell_type": "code",
   "execution_count": 51,
   "metadata": {},
   "outputs": [
    {
     "data": {
      "text/plain": [
       "<Element 'rank' at 0x000002460F9A6548>"
      ]
     },
     "execution_count": 51,
     "metadata": {},
     "output_type": "execute_result"
    }
   ],
   "source": [
    "root[0][0]"
   ]
  },
  {
   "cell_type": "code",
   "execution_count": 52,
   "metadata": {},
   "outputs": [
    {
     "data": {
      "text/plain": [
       "'1'"
      ]
     },
     "execution_count": 52,
     "metadata": {},
     "output_type": "execute_result"
    }
   ],
   "source": [
    "root[0][0].text\n"
   ]
  },
  {
   "cell_type": "code",
   "execution_count": 53,
   "metadata": {},
   "outputs": [
    {
     "name": "stdout",
     "output_type": "stream",
     "text": [
      "{'name': 'Austria', 'direction': 'E'}\n",
      "{'name': 'Switzerland', 'direction': 'W'}\n",
      "{'name': 'Malaysia', 'direction': 'N'}\n",
      "{'name': 'Costa Rica', 'direction': 'W'}\n",
      "{'name': 'Colombia', 'direction': 'E'}\n"
     ]
    }
   ],
   "source": [
    "for neighbor in root.iter('neighbor'):\n",
    "    print(neighbor.attrib)"
   ]
  },
  {
   "cell_type": "code",
   "execution_count": 56,
   "metadata": {},
   "outputs": [
    {
     "name": "stdout",
     "output_type": "stream",
     "text": [
      "Liechtenstein 2 141100\n",
      "Singapore 5 59900\n",
      "Panama 69 13600\n"
     ]
    }
   ],
   "source": [
    "for country in root.findall('country'):\n",
    "    rank = country.find('rank').text\n",
    "    gdppc = country.find('gdppc').text\n",
    "    name = country.get('name')\n",
    "    print (name, rank,gdppc)\n"
   ]
  },
  {
   "cell_type": "code",
   "execution_count": 55,
   "metadata": {},
   "outputs": [
    {
     "name": "stdout",
     "output_type": "stream",
     "text": [
      "<data>\n",
      "    <country name=\"Liechtenstein\">\n",
      "        <rank updated=\"yes\">2</rank>\n",
      "        <year>2008</year>\n",
      "        <gdppc>141100</gdppc>\n",
      "        <neighbor direction=\"E\" name=\"Austria\" />\n",
      "        <neighbor direction=\"W\" name=\"Switzerland\" />\n",
      "    </country>\n",
      "    <country name=\"Singapore\">\n",
      "        <rank updated=\"yes\">5</rank>\n",
      "        <year>2011</year>\n",
      "        <gdppc>59900</gdppc>\n",
      "        <neighbor direction=\"N\" name=\"Malaysia\" />\n",
      "    </country>\n",
      "    <country name=\"Panama\">\n",
      "        <rank updated=\"yes\">69</rank>\n",
      "        <year>2011</year>\n",
      "        <gdppc>13600</gdppc>\n",
      "        <neighbor direction=\"W\" name=\"Costa Rica\" />\n",
      "        <neighbor direction=\"E\" name=\"Colombia\" />\n",
      "    </country>\n",
      "</data>\n"
     ]
    }
   ],
   "source": [
    "for rank in root.iter('rank'):\n",
    "    new_rank = int(rank.text) + 1\n",
    "    rank.text = str(new_rank)\n",
    "    rank.set('updated', 'yes')\n",
    "tree.write('output.xml')\n",
    "with open('output.xml')as fb:\n",
    "    print(fb.read())\n"
   ]
  },
  {
   "cell_type": "code",
   "execution_count": 87,
   "metadata": {},
   "outputs": [
    {
     "name": "stdout",
     "output_type": "stream",
     "text": [
      "<data>\n",
      "    <country name=\"Liechtenstein\">\n",
      "        <rank updated=\"yes\">2</rank>\n",
      "        <year>2008</year>\n",
      "        <gdppc>141100</gdppc>\n",
      "        <neighbor direction=\"E\" name=\"Austria\" />\n",
      "        <neighbor direction=\"W\" name=\"Switzerland\" />\n",
      "    </country>\n",
      "    <country name=\"Singapore\">\n",
      "        <rank updated=\"yes\">5</rank>\n",
      "        <year>2011</year>\n",
      "        <gdppc>59900</gdppc>\n",
      "        <neighbor direction=\"N\" name=\"Malaysia\" />\n",
      "    </country>\n",
      "    <country name=\"Panama\">\n",
      "        <rank updated=\"yes\">69</rank>\n",
      "        <year>2011</year>\n",
      "        <gdppc>13600</gdppc>\n",
      "        <neighbor direction=\"W\" name=\"Costa Rica\" />\n",
      "        <neighbor direction=\"E\" name=\"Colombia\" />\n",
      "    </country>\n",
      "</data>\n"
     ]
    }
   ],
   "source": [
    "import xml.etree.ElementTree as ET\n",
    "tree = ET.parse('output.xml')\n",
    "root = tree.getroot()\n",
    "for country in root.findall('country'):\n",
    "    rank = int(country.find('rank').text)\n",
    "    if rank > 100:\n",
    "        root.remove(country)\n",
    "tree.write('output.xml')\n",
    "with open('output.xml')as fb:\n",
    "    print(fb.read())\n",
    "        "
   ]
  },
  {
   "cell_type": "raw",
   "metadata": {},
   "source": [
    "Writing XML data\n"
   ]
  },
  {
   "cell_type": "code",
   "execution_count": 106,
   "metadata": {},
   "outputs": [
    {
     "name": "stdout",
     "output_type": "stream",
     "text": [
      "<Element 'Users' at 0x000002460F9F6638>\n"
     ]
    }
   ],
   "source": [
    "import xml.etree.ElementTree as xml\n",
    "\n",
    "filename = \"test_xml.xml\"\n",
    "root = xml.Element(\"Users\")\n",
    "userelement = xml.Element(\"user\")\n",
    "root.append(userelement)\n",
    "print(tree.getroot())"
   ]
  },
  {
   "cell_type": "code",
   "execution_count": 107,
   "metadata": {},
   "outputs": [],
   "source": [
    "uid = xml.SubElement(userelement, \"uid\")\n",
    "uid.text = \"1\"\n"
   ]
  },
  {
   "cell_type": "code",
   "execution_count": 108,
   "metadata": {},
   "outputs": [],
   "source": [
    "FirstName = xml.SubElement(userelement, \"FirstName\")\n",
    "FirstName.text = \"testuser\""
   ]
  },
  {
   "cell_type": "code",
   "execution_count": 109,
   "metadata": {},
   "outputs": [],
   "source": [
    "LastName = xml.SubElement(userelement, \"LastName\")\n",
    "LastName.text = \"testuser\""
   ]
  },
  {
   "cell_type": "code",
   "execution_count": 110,
   "metadata": {},
   "outputs": [],
   "source": [
    "Email = xml.SubElement(userelement, \"Email\")\n",
    "Email.text = \"testuser@test.com\""
   ]
  },
  {
   "cell_type": "code",
   "execution_count": 111,
   "metadata": {},
   "outputs": [],
   "source": [
    "state = xml.SubElement(userelement, \"state\")\n",
    "state.text = \"xyz\""
   ]
  },
  {
   "cell_type": "code",
   "execution_count": 112,
   "metadata": {},
   "outputs": [],
   "source": [
    "location = xml.SubElement(userelement, \"location\")\n",
    "location.text = \"abc\""
   ]
  },
  {
   "cell_type": "code",
   "execution_count": 122,
   "metadata": {},
   "outputs": [
    {
     "data": {
      "text/plain": [
       "'abc'"
      ]
     },
     "execution_count": 122,
     "metadata": {},
     "output_type": "execute_result"
    }
   ],
   "source": [
    "root[0][5].text\n"
   ]
  },
  {
   "cell_type": "code",
   "execution_count": 128,
   "metadata": {},
   "outputs": [
    {
     "name": "stdout",
     "output_type": "stream",
     "text": [
      "b'<Users><user><uid>1</uid><FirstName>testuser</FirstName><LastName>testuser</LastName><Email>testuser@test.com</Email><state>xyz</state><location>abc</location></user></Users>'\n"
     ]
    }
   ],
   "source": [
    "#root = tree.getroot()\n",
    "spam = etree.tostring(root)\n",
    "print(spam)\n",
    "with open(\"user.xml\",\"w\")as fb:\n",
    "    fb.write(str(spam))"
   ]
  },
  {
   "cell_type": "code",
   "execution_count": 86,
   "metadata": {},
   "outputs": [
    {
     "name": "stdout",
     "output_type": "stream",
     "text": [
      "\n"
     ]
    }
   ],
   "source": [
    "with open(\"test_xml.xml\",\"r\")as fb:\n",
    "    print(fb.read())\n",
    "    "
   ]
  },
  {
   "cell_type": "code",
   "execution_count": 19,
   "metadata": {},
   "outputs": [],
   "source": [
    "import datetime\n",
    "import PyRSS2Gen\n",
    "\n",
    "rss = PyRSS2Gen.RSS2(\n",
    "title = \"Andrew's PyRSS2Gen feed\",\n",
    "link = \"http://www.dalkescientific.com/Python/PyRSS2Gen.html\",\n",
    "description = \"The latest news about PyRSS2Gen, a \"\n",
    "\"Python library for generating RSS2 feeds\",\n",
    "\n",
    "lastBuildDate = datetime.datetime.now(),\n",
    "\n",
    "items = [\n",
    "PyRSS2Gen.RSSItem(\n",
    "title = \"PyRSS2Gen-0.0 released\",\n",
    "link = \"http://www.dalkescientific.com/news/030906-PyRSS2Gen.html\",\n",
    "description = \"Dalke Scientific today announced PyRSS2Gen-0.0, \"\n",
    "\"a library for generating RSS feeds for Python. \",\n",
    "guid = PyRSS2Gen.Guid(\"http://www.dalkescientific.com/news/\"\n",
    "\"030906-PyRSS2Gen.html\"),\n",
    "pubDate = datetime.datetime(2003, 9, 6, 21, 31)),\n",
    "PyRSS2Gen.RSSItem(\n",
    "title = \"Thoughts on RSS feeds for bioinformatics\",\n",
    "link = \"http://www.dalkescientific.com/writings/diary/\"\n",
    "\"archive/2003/09/06/RSS.html\",\n",
    "description = \"One of the reasons I wrote PyRSS2Gen was to \"\n",
    "\"experiment with RSS for data collection in \"\n",
    "\"bioinformatics. Last year I came across...\",\n",
    "guid = PyRSS2Gen.Guid(\"http://www.dalkescientific.com/writings/\"\n",
    "\"diary/archive/2003/09/06/RSS.html\"),\n",
    "pubDate = datetime.datetime(2003, 9, 6, 21, 49)),\n",
    "])\n",
    "\n",
    "rss.write_xml(open(\"pyrss2gen.xml\", \"w\"))"
   ]
  },
  {
   "cell_type": "code",
   "execution_count": 44,
   "metadata": {},
   "outputs": [
    {
     "name": "stdout",
     "output_type": "stream",
     "text": [
      "None\n",
      "<Element 'rss' at 0x000002460F977CC8>\n",
      "<Element 'channel' at 0x000002460F977458>\n",
      "<Element 'title' at 0x000002460F9771D8>\n",
      "<Element 'link' at 0x000002460F9A62C8>\n",
      "<Element 'description' at 0x000002460F9A6278>\n",
      "<Element 'lastBuildDate' at 0x000002460F9A6318>\n",
      "<Element 'generator' at 0x000002460F9A63B8>\n",
      "<Element 'docs' at 0x000002460F9A6408>\n",
      "<Element 'item' at 0x000002460F9A6458>\n",
      "<Element 'title' at 0x000002460F9A64A8>\n",
      "<Element 'link' at 0x000002460F9A64F8>\n",
      "<Element 'description' at 0x000002460F9A6548>\n",
      "<Element 'guid' at 0x000002460F9A6598>\n",
      "<Element 'pubDate' at 0x000002460F9A65E8>\n",
      "<Element 'item' at 0x000002460F9A6688>\n",
      "<Element 'title' at 0x000002460F9A66D8>\n",
      "<Element 'link' at 0x000002460F9A6728>\n",
      "<Element 'description' at 0x000002460F9A6778>\n",
      "<Element 'guid' at 0x000002460F9A67C8>\n",
      "<Element 'pubDate' at 0x000002460F9A6818>\n"
     ]
    }
   ],
   "source": [
    "import xml.etree.ElementTree as ET\n",
    "tree = ET.parse('pyrss2gen.xml')\n",
    "root = tree.getroot()\n",
    "print(root.text)\n",
    "\n",
    "#print(root.tag)\n",
    "\n",
    "for child in root.iter():\n",
    "    print (child)"
   ]
  },
  {
   "cell_type": "code",
   "execution_count": null,
   "metadata": {},
   "outputs": [],
   "source": []
  }
 ],
 "metadata": {
  "kernelspec": {
   "display_name": "Python 3",
   "language": "python",
   "name": "python3"
  },
  "language_info": {
   "codemirror_mode": {
    "name": "ipython",
    "version": 3
   },
   "file_extension": ".py",
   "mimetype": "text/x-python",
   "name": "python",
   "nbconvert_exporter": "python",
   "pygments_lexer": "ipython3",
   "version": "3.6.5"
  }
 },
 "nbformat": 4,
 "nbformat_minor": 2
}
