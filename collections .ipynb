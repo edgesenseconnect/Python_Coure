{
 "cells": [
  {
   "cell_type": "code",
   "execution_count": 1,
   "metadata": {},
   "outputs": [
    {
     "name": "stdout",
     "output_type": "stream",
     "text": [
      "The Student age using index is : 19\n",
      "The Student name using keyname is : Nandini\n",
      "The Student DOB using getattr() is : 2541997\n"
     ]
    }
   ],
   "source": [
    "# Python code to demonstrate namedtuple() and \n",
    "# Access by name, index and getattr() \n",
    "\n",
    "# importing \"collections\" for namedtuple() \n",
    "import collections \n",
    "\n",
    "# Declaring namedtuple() \n",
    "Student = collections.namedtuple('Student',['name','age','DOB']) \n",
    "\n",
    "# Adding values \n",
    "S = Student('Nandini','19','2541997') \n",
    "\n",
    "# Access using index \n",
    "print (\"The Student age using index is : \",end =\"\") \n",
    "print (S[1]) \n",
    "\n",
    "# Access using name \n",
    "print (\"The Student name using keyname is : \",end =\"\") \n",
    "print (S.name) \n",
    "\n",
    "# Access using getattr() \n",
    "print (\"The Student DOB using getattr() is : \",end =\"\") \n",
    "print (getattr(S,'DOB')) \n"
   ]
  },
  {
   "cell_type": "code",
   "execution_count": 2,
   "metadata": {},
   "outputs": [
    {
     "name": "stdout",
     "output_type": "stream",
     "text": [
      "The namedtuple instance using iterable is : \n",
      "Student(name='Manjeet', age='19', DOB='411997')\n",
      "The OrderedDict instance using namedtuple is : \n",
      "OrderedDict([('name', 'Nandini'), ('age', '19'), ('DOB', '2541997')])\n",
      "The namedtuple instance from dict is : \n",
      "Student(name='Nikhil', age=19, DOB='1391997')\n"
     ]
    }
   ],
   "source": [
    "# Python code to demonstrate namedtuple() and \n",
    "# _make(), _asdict() and \"**\" operator \n",
    "\n",
    "# importing \"collections\" for namedtuple() \n",
    "import collections \n",
    "\n",
    "# Declaring namedtuple() \n",
    "Student = collections.namedtuple('Student',['name','age','DOB']) \n",
    "\n",
    "# Adding values \n",
    "S = Student('Nandini','19','2541997') \n",
    "\n",
    "# initializing iterable \n",
    "li = ['Manjeet', '19', '411997' ] \n",
    "\n",
    "# initializing dict \n",
    "di = { 'name' : \"Nikhil\", 'age' : 19 , 'DOB' : '1391997' } \n",
    "\n",
    "# using _make() to return namedtuple() \n",
    "print (\"The namedtuple instance using iterable is : \") \n",
    "print (Student._make(li)) \n",
    "\n",
    "# using _asdict() to return an OrderedDict() \n",
    "print (\"The OrderedDict instance using namedtuple is : \") \n",
    "print (S._asdict()) \n",
    "\n",
    "# using ** operator to return namedtuple from dictionary \n",
    "print (\"The namedtuple instance from dict is : \") \n",
    "print (Student(**di)) \n"
   ]
  },
  {
   "cell_type": "code",
   "execution_count": 3,
   "metadata": {},
   "outputs": [
    {
     "name": "stdout",
     "output_type": "stream",
     "text": [
      "All the fields of students are : \n",
      "('name', 'age', 'DOB')\n",
      "The modified namedtuple is : \n",
      "Student(name='Manjeet', age='19', DOB='2541997')\n"
     ]
    }
   ],
   "source": [
    "# Python code to demonstrate namedtuple() and \n",
    "# _fields and _replace() \n",
    "\n",
    "# importing \"collections\" for namedtuple() \n",
    "import collections \n",
    "\n",
    "# Declaring namedtuple() \n",
    "Student = collections.namedtuple('Student',['name','age','DOB']) \n",
    "\n",
    "# Adding values \n",
    "S = Student('Nandini','19','2541997') \n",
    "\n",
    "# using _fields to display all the keynames of namedtuple() \n",
    "print (\"All the fields of students are : \") \n",
    "print (S._fields) \n",
    "\n",
    "# using _replace() to change the attribute values of namedtuple \n",
    "print (\"The modified namedtuple is : \") \n",
    "print(S._replace(name = 'Manjeet')) \n"
   ]
  },
  {
   "cell_type": "code",
   "execution_count": 4,
   "metadata": {},
   "outputs": [
    {
     "name": "stdout",
     "output_type": "stream",
     "text": [
      "The deque after appending at right is : \n",
      "deque([1, 2, 3, 4])\n",
      "The deque after appending at left is : \n",
      "deque([6, 1, 2, 3, 4])\n",
      "The deque after deleting from right is : \n",
      "deque([6, 1, 2, 3])\n"
     ]
    }
   ],
   "source": [
    "# Python code to demonstrate working of  \n",
    "# append(), appendleft(), pop(), and popleft() \n",
    "  \n",
    "# importing \"collections\" for deque operations \n",
    "import collections \n",
    "  \n",
    "# initializing deque \n",
    "de = collections.deque([1,2,3]) \n",
    "  \n",
    "# using append() to insert element at right end  \n",
    "# inserts 4 at the end of deque \n",
    "de.append(4) \n",
    "  \n",
    "# printing modified deque \n",
    "print (\"The deque after appending at right is : \") \n",
    "print (de) \n",
    "  \n",
    "# using appendleft() to insert element at right end  \n",
    "# inserts 6 at the beginning of deque \n",
    "de.appendleft(6) \n",
    "  \n",
    "# printing modified deque \n",
    "print (\"The deque after appending at left is : \") \n",
    "print (de) \n",
    "  \n",
    "# using pop() to delete element from right end  \n",
    "# deletes 4 from the right end of deque \n",
    "de.pop() \n",
    "  \n",
    "# printing modified deque \n",
    "print (\"The deque after deleting from right is : \") \n",
    "print (de) \n",
    "  "
   ]
  },
  {
   "cell_type": "code",
   "execution_count": 12,
   "metadata": {},
   "outputs": [
    {
     "name": "stdout",
     "output_type": "stream",
     "text": [
      "The number 4 first occurs at a position : \n",
      "4\n",
      "The deque after inserting 3 at 5th position is : \n",
      "deque([1, 2, 3, 3, 3, 4, 2, 4])\n",
      "The count of 3 in deque is : \n",
      "3\n",
      "The deque after deleting first occurrence of 3 is : \n",
      "deque([1, 2, 3, 3, 4, 2, 4])\n"
     ]
    }
   ],
   "source": [
    "# Python code to demonstrate working of \n",
    "# insert(), index(), remove(), count() \n",
    "\n",
    "# importing \"collections\" for deque operations \n",
    "import collections \n",
    "\n",
    "# initializing deque \n",
    "de = collections.deque([1, 2, 3, 3, 4, 2, 4]) \n",
    "\n",
    "# using index() to print the first occurrence of 4 \n",
    "print (\"The number 4 first occurs at a position : \") \n",
    "print (de.index(4)) \n",
    "\n",
    "# using insert() to insert the value 3 at 5th position \n",
    "de.insert(4,3) \n",
    "\n",
    "# printing modified deque \n",
    "print (\"The deque after inserting 3 at 5th position is : \") \n",
    "print (de) \n",
    "\n",
    "# using count() to count the occurrences of 3 \n",
    "print (\"The count of 3 in deque is : \") \n",
    "print (de.count(3)) \n",
    "\n",
    "# using remove() to remove the first occurrence of 3 \n",
    "de.remove(3) \n",
    "\n",
    "# printing modified deque \n",
    "print (\"The deque after deleting first occurrence of 3 is : \") \n",
    "print (de) \n"
   ]
  },
  {
   "cell_type": "code",
   "execution_count": 13,
   "metadata": {},
   "outputs": [
    {
     "name": "stdout",
     "output_type": "stream",
     "text": [
      "The deque after extending deque at end is : \n",
      "deque([1, 2, 3, 4, 5, 6])\n",
      "The deque after extending deque at beginning is : \n",
      "deque([9, 8, 7, 1, 2, 3, 4, 5, 6])\n",
      "The deque after rotating deque is : \n",
      "deque([1, 2, 3, 4, 5, 6, 9, 8, 7])\n",
      "The deque after reversing deque is : \n",
      "deque([7, 8, 9, 6, 5, 4, 3, 2, 1])\n"
     ]
    }
   ],
   "source": [
    "# Python code to demonstrate working of \n",
    "# extend(), extendleft(), rotate(), reverse() \n",
    "\n",
    "# importing \"collections\" for deque operations \n",
    "import collections \n",
    "\n",
    "# initializing deque \n",
    "de = collections.deque([1, 2, 3,]) \n",
    "\n",
    "# using extend() to add numbers to right end \n",
    "# adds 4,5,6 to right end \n",
    "de.extend([4,5,6]) \n",
    "\n",
    "# printing modified deque \n",
    "print (\"The deque after extending deque at end is : \") \n",
    "print (de) \n",
    "\n",
    "# using extendleft() to add numbers to left end \n",
    "# adds 7,8,9 to right end \n",
    "de.extendleft([7,8,9]) \n",
    "\n",
    "# printing modified deque \n",
    "print (\"The deque after extending deque at beginning is : \") \n",
    "print (de) \n",
    "\n",
    "# using rotate() to rotate the deque \n",
    "# rotates by 3 to left \n",
    "de.rotate(-3) \n",
    "\n",
    "# printing modified deque \n",
    "print (\"The deque after rotating deque is : \") \n",
    "print (de) \n",
    "\n",
    "# using reverse() to reverse the deque \n",
    "de.reverse() \n",
    "\n",
    "# printing modified deque \n",
    "print (\"The deque after reversing deque is : \") \n",
    "print (de) \n"
   ]
  },
  {
   "cell_type": "code",
   "execution_count": 1,
   "metadata": {},
   "outputs": [
    {
     "name": "stdout",
     "output_type": "stream",
     "text": [
      "All the ChainMap contents are : \n",
      "[{'a': 1, 'b': 2}, {'b': 3, 'c': 4}]\n",
      "All keys of ChainMap are : \n",
      "['b', 'c', 'a']\n",
      "All values of ChainMap are : \n",
      "[2, 4, 1]\n"
     ]
    }
   ],
   "source": [
    "# Please select Python 3 for running this code in IDE \n",
    "# Python code to demonstrate ChainMap and \n",
    "# keys(), values() and maps \n",
    "\n",
    "# importing collections for ChainMap operations \n",
    "import collections \n",
    "\n",
    "# initializing dictionaries \n",
    "dic1 = { 'a' : 1, 'b' : 2 } \n",
    "dic2 = { 'b' : 3, 'c' : 4 } \n",
    "\n",
    "# initializing ChainMap \n",
    "chain = collections.ChainMap(dic1, dic2) \n",
    "\n",
    "# printing chainMap using maps \n",
    "print (\"All the ChainMap contents are : \") \n",
    "print (chain.maps) \n",
    "\n",
    "# printing keys using keys() \n",
    "print (\"All keys of ChainMap are : \") \n",
    "print (list(chain.keys())) \n",
    "\n",
    "# printing keys using keys() \n",
    "print (\"All values of ChainMap are : \") \n",
    "print (list(chain.values())) \n"
   ]
  },
  {
   "cell_type": "code",
   "execution_count": 14,
   "metadata": {},
   "outputs": [
    {
     "name": "stdout",
     "output_type": "stream",
     "text": [
      "All the ChainMap contents are : \n",
      "[{'a': 1, 'b': 2}, {'b': 3, 'c': 4}]\n",
      "Displaying new ChainMap : \n",
      "[{'f': 5}, {'a': 1, 'b': 2}, {'b': 3, 'c': 4}]\n",
      "Value associated with b before reversing is : 2\n",
      "Value associated with b after reversing is : 3\n"
     ]
    }
   ],
   "source": [
    "# Please select Python 3 for running this code in IDE \n",
    "# Python code to demonstrate ChainMap and \n",
    "# reversed() and new_child() \n",
    "\n",
    "# importing collections for ChainMap operations \n",
    "import collections \n",
    "\n",
    "# initializing dictionaries \n",
    "dic1 = { 'a' : 1, 'b' : 2 } \n",
    "dic2 = { 'b' : 3, 'c' : 4 } \n",
    "dic3 = { 'f' : 5 } \n",
    "\n",
    "# initializing ChainMap \n",
    "chain = collections.ChainMap(dic1, dic2) \n",
    "\n",
    "# printing chainMap using map \n",
    "print (\"All the ChainMap contents are : \") \n",
    "print (chain.maps) \n",
    "\n",
    "# using new_child() to add new dictionary \n",
    "chain1 = chain.new_child(dic3) \n",
    "\n",
    "# printing chainMap using map \n",
    "print (\"Displaying new ChainMap : \") \n",
    "print (chain1.maps) \n",
    "\n",
    "# displaying value associated with b before reversing \n",
    "print (\"Value associated with b before reversing is : \",end=\"\") \n",
    "print (chain1['b']) \n",
    "\n",
    "# reversing the ChainMap \n",
    "chain1.maps = reversed(chain1.maps) \n",
    "\n",
    "# displaying value associated with b after reversing \n",
    "print (\"Value associated with b after reversing is : \",end=\"\") \n",
    "print (chain1['b']) \n"
   ]
  },
  {
   "cell_type": "code",
   "execution_count": 16,
   "metadata": {},
   "outputs": [
    {
     "name": "stdout",
     "output_type": "stream",
     "text": [
      "Counter({'B': 5, 'A': 3, 'C': 2})\n",
      "Counter({'B': 5, 'A': 3, 'C': 2})\n",
      "Counter({'B': 5, 'A': 3, 'C': 2})\n"
     ]
    }
   ],
   "source": [
    "# A Python program to show different ways to create \n",
    "# Counter \n",
    "from collections import Counter \n",
    "\n",
    "# With sequence of items \n",
    "print (Counter(['B','B','A','B','C','A','B','B','A','C']) )\n",
    "\n",
    "# with dictionary \n",
    "print (Counter({'A':3, 'B':5, 'C':2})) \n",
    "\n",
    "# with keyword arguments \n",
    "print (Counter(A=3, B=5, C=2) )\n"
   ]
  },
  {
   "cell_type": "code",
   "execution_count": 17,
   "metadata": {},
   "outputs": [
    {
     "name": "stdout",
     "output_type": "stream",
     "text": [
      "Counter({1: 4, 2: 3, 3: 1})\n",
      "Counter({1: 5, 2: 4, 3: 1, 4: 1})\n"
     ]
    }
   ],
   "source": [
    "# A Python program to demonstrate update() \n",
    "from collections import Counter \n",
    "coun = Counter() \n",
    "\n",
    "coun.update([1, 2, 3, 1, 2, 1, 1, 2]) \n",
    "print(coun) \n",
    "\n",
    "coun.update([1, 2, 4]) \n",
    "print(coun) \n"
   ]
  },
  {
   "cell_type": "code",
   "execution_count": 18,
   "metadata": {},
   "outputs": [
    {
     "name": "stdout",
     "output_type": "stream",
     "text": [
      "Counter({'C': 6, 'B': 0, 'A': -6})\n"
     ]
    }
   ],
   "source": [
    "# Python program to demonstrate that counts in \n",
    "# Counter can be 0 and negative \n",
    "from collections import Counter \n",
    "\n",
    "c1 = Counter(A=4, B=3, C=10) \n",
    "c2 = Counter(A=10, B=3, C=4) \n",
    "\n",
    "c1.subtract(c2) \n",
    "print(c1) \n"
   ]
  },
  {
   "cell_type": "code",
   "execution_count": 19,
   "metadata": {},
   "outputs": [
    {
     "name": "stdout",
     "output_type": "stream",
     "text": [
      "Counter({'blue': 3, 'red': 2, 'yellow': 1})\n"
     ]
    }
   ],
   "source": [
    "# An example program where different list items are \n",
    "# counted using counter \n",
    "from collections import Counter \n",
    "\n",
    "# Create a list \n",
    "z = ['blue', 'red', 'blue', 'yellow', 'blue', 'red'] \n",
    "\n",
    "# Count distinct elements and print Counter aboject \n",
    "print(Counter(z)) \n"
   ]
  },
  {
   "cell_type": "code",
   "execution_count": 25,
   "metadata": {},
   "outputs": [
    {
     "name": "stdout",
     "output_type": "stream",
     "text": [
      "This is a Dict:\n",
      "\n",
      "a 1\n",
      "b 2\n",
      "c 3\n",
      "d 4\n",
      "{'a': 1, 'b': 2, 'c': 3, 'd': 4}\n",
      "\n",
      "This is an Ordered Dict:\n",
      "\n",
      "OrderedDict([('a', 1), ('b', 2), ('c', 3), ('d', 4)])\n",
      "a 1\n",
      "b 2\n",
      "c 3\n",
      "d 4\n"
     ]
    }
   ],
   "source": [
    "# A Python program to demonstrate working of OrderedDict \n",
    "from collections import OrderedDict \n",
    "\n",
    "print(\"This is a Dict:\\n\") \n",
    "d = {} \n",
    "d['a'] = 1\n",
    "d['b'] = 2\n",
    "d['c'] = 3\n",
    "d['d'] = 4\n",
    "\n",
    "for key, value in d.items(): \n",
    "\tprint(key, value) \n",
    "print(d)\n",
    "\n",
    "print(\"\\nThis is an Ordered Dict:\\n\") \n",
    "od = OrderedDict() \n",
    "od['a'] = 1\n",
    "od['b'] = 2\n",
    "od['c'] = 3\n",
    "od['d'] = 4\n",
    "print(od)\n",
    "for key, value in od.items(): \n",
    "\tprint(key, value) \n"
   ]
  },
  {
   "cell_type": "code",
   "execution_count": 21,
   "metadata": {},
   "outputs": [
    {
     "name": "stdout",
     "output_type": "stream",
     "text": [
      "Before:\n",
      "\n",
      "a 1\n",
      "b 2\n",
      "c 3\n",
      "d 4\n",
      "\n",
      "After:\n",
      "\n",
      "a 1\n",
      "b 2\n",
      "c 5\n",
      "d 4\n"
     ]
    }
   ],
   "source": [
    "# A Python program to demonstrate working of key \n",
    "# value change in OrderedDict \n",
    "from collections import OrderedDict \n",
    "\n",
    "print(\"Before:\\n\") \n",
    "od = OrderedDict() \n",
    "od['a'] = 1\n",
    "od['b'] = 2\n",
    "od['c'] = 3\n",
    "od['d'] = 4\n",
    "for key, value in od.items(): \n",
    "\tprint(key, value) \n",
    "\n",
    "print(\"\\nAfter:\\n\") \n",
    "od['c'] = 5\n",
    "for key, value in od.items(): \n",
    "\tprint(key, value) \n"
   ]
  },
  {
   "cell_type": "code",
   "execution_count": 26,
   "metadata": {},
   "outputs": [
    {
     "name": "stdout",
     "output_type": "stream",
     "text": [
      "Before:\n",
      "\n",
      "a 1\n",
      "b 2\n",
      "c 3\n",
      "d 4\n",
      "\n",
      "After:\n",
      "\n",
      "a 1\n",
      "b 2\n",
      "c 5\n",
      "d 4\n"
     ]
    }
   ],
   "source": [
    "# A Python program to demonstrate working of key \n",
    "# value change in OrderedDict \n",
    "from collections import OrderedDict \n",
    "\n",
    "print(\"Before:\\n\") \n",
    "od = OrderedDict() \n",
    "od['a'] = 1\n",
    "od['b'] = 2\n",
    "od['c'] = 3\n",
    "od['d'] = 4\n",
    "for key, value in od.items(): \n",
    "\tprint(key, value) \n",
    "\n",
    "print(\"\\nAfter:\\n\") \n",
    "od['c'] = 5\n",
    "for key, value in od.items(): \n",
    "\tprint(key, value) \n"
   ]
  },
  {
   "cell_type": "code",
   "execution_count": 27,
   "metadata": {},
   "outputs": [
    {
     "name": "stdout",
     "output_type": "stream",
     "text": [
      "Before deleting:\n",
      "\n",
      "a 1\n",
      "b 2\n",
      "c 3\n",
      "d 4\n",
      "\n",
      "After deleting:\n",
      "\n",
      "a 1\n",
      "b 2\n",
      "d 4\n",
      "\n",
      "After re-inserting:\n",
      "\n",
      "a 1\n",
      "b 2\n",
      "d 4\n",
      "c 3\n"
     ]
    }
   ],
   "source": [
    "# A Python program to demonstrate working of deletion \n",
    "# re-inserion in OrderedDict \n",
    "from collections import OrderedDict \n",
    "\n",
    "print(\"Before deleting:\\n\") \n",
    "od = OrderedDict() \n",
    "od['a'] = 1\n",
    "od['b'] = 2\n",
    "od['c'] = 3\n",
    "od['d'] = 4\n",
    "\n",
    "for key, value in od.items(): \n",
    "\tprint(key, value) \n",
    "\n",
    "print(\"\\nAfter deleting:\\n\") \n",
    "od.pop('c') \n",
    "for key, value in od.items(): \n",
    "\tprint(key, value) \n",
    "\n",
    "print(\"\\nAfter re-inserting:\\n\") \n",
    "od['c'] = 3\n",
    "for key, value in od.items(): \n",
    "\tprint(key, value) \n"
   ]
  },
  {
   "cell_type": "code",
   "execution_count": 28,
   "metadata": {},
   "outputs": [
    {
     "name": "stdout",
     "output_type": "stream",
     "text": [
      "d: defaultdict(<function default_factory at 0x7fac7832a840>, {'foo': 'bar'})\n",
      "foo => bar\n",
      "bar => default value\n"
     ]
    }
   ],
   "source": [
    "import collections\n",
    "\n",
    "def default_factory():\n",
    "    return 'default value'\n",
    "\n",
    "d = collections.defaultdict(default_factory, foo='bar')\n",
    "print( 'd:', d)\n",
    "print ('foo =>', d['foo'])\n",
    "print ('bar =>', d['bar'])"
   ]
  },
  {
   "cell_type": "code",
   "execution_count": null,
   "metadata": {},
   "outputs": [],
   "source": [
    "compression \n"
   ]
  },
  {
   "cell_type": "code",
   "execution_count": 29,
   "metadata": {},
   "outputs": [
    {
     "name": "stdout",
     "output_type": "stream",
     "text": [
      "41\n",
      "39\n",
      "b'you learn learnt learning the data daily '\n"
     ]
    }
   ],
   "source": [
    " import zlib\n",
    "\n",
    "s = b'you learn learnt learning the data daily '\n",
    "\n",
    "print(len(s))\n",
    "\n",
    "t = zlib.compress(s)\n",
    "\n",
    "print(len(t))\n",
    "\n",
    "print(zlib.decompress(t))\n",
    "\n"
   ]
  },
  {
   "cell_type": "code",
   "execution_count": 47,
   "metadata": {},
   "outputs": [
    {
     "name": "stdout",
     "output_type": "stream",
     "text": [
      "File Name                                             Modified             Size\n",
      "12-Generators.ipynb                            2019-08-03 07:30:34        19423\n",
      "13-Modules-and-Packages.ipynb                  2019-08-03 07:30:34        10449\n",
      "14-Strings-and-Regular-Expressions.ipynb       2019-08-03 07:30:34        48550\n",
      "15-Preview-of-Data-Science-Tools.ipynb         2019-08-03 07:30:34       181708\n",
      "17-Figures.ipynb                               2019-08-03 07:30:34        17054\n",
      "battery.py                                     2019-08-03 07:30:34         1477\n",
      "cardvalidator .ipynb                           2019-08-03 07:30:34         5218\n",
      "chatbot .ipynb                                 2019-08-03 07:30:34        10923\n",
      "classesobjects.ipynb                           2019-08-03 07:30:34        35923\n",
      "collections.ipynb                              2019-08-03 07:30:34        20138\n",
      "Extracting all the files now...\n",
      "Done!\n"
     ]
    }
   ],
   "source": [
    "# importing required modules \n",
    "from zipfile import ZipFile \n",
    "\n",
    "# specifying the zip file name \n",
    "file_name = \"vin.zip\"\n",
    "\n",
    "# opening the zip file in READ mode \n",
    "with ZipFile(file_name, 'r') as zip: \n",
    "\t# printing all the contents of the zip file \n",
    "\tzip.printdir() \n",
    "\n",
    "\t# extracting all the files \n",
    "\tprint('Extracting all the files now...') \n",
    "\tzip.extractall() \n",
    "\tprint('Done!') \n"
   ]
  },
  {
   "cell_type": "code",
   "execution_count": 49,
   "metadata": {},
   "outputs": [
    {
     "name": "stdout",
     "output_type": "stream",
     "text": [
      "Following files will be zipped:\n",
      "/home/vinayaka/Downloads/PythonJupyter-master(1)/PythonJupyter-master/download.png\n",
      "/home/vinayaka/Downloads/PythonJupyter-master(1)/PythonJupyter-master/engineer.mp3\n",
      "/home/vinayaka/Downloads/PythonJupyter-master(1)/PythonJupyter-master/haarcascade_eye.xml\n",
      "/home/vinayaka/Downloads/PythonJupyter-master(1)/PythonJupyter-master/17-Figures.ipynb\n",
      "/home/vinayaka/Downloads/PythonJupyter-master(1)/PythonJupyter-master/xmldata.xml\n",
      "/home/vinayaka/Downloads/PythonJupyter-master(1)/PythonJupyter-master/weather .ipynb\n",
      "/home/vinayaka/Downloads/PythonJupyter-master(1)/PythonJupyter-master/11-List-Comprehensions.ipynb\n",
      "/home/vinayaka/Downloads/PythonJupyter-master(1)/PythonJupyter-master/00-Introduction.ipynb\n",
      "/home/vinayaka/Downloads/PythonJupyter-master(1)/PythonJupyter-master/mydatabase1.db\n",
      "/home/vinayaka/Downloads/PythonJupyter-master(1)/PythonJupyter-master/example_2.json\n",
      "/home/vinayaka/Downloads/PythonJupyter-master(1)/PythonJupyter-master/02-Basic-Python-Syntax.ipynb\n",
      "/home/vinayaka/Downloads/PythonJupyter-master(1)/PythonJupyter-master/flask req.ipynb\n",
      "/home/vinayaka/Downloads/PythonJupyter-master(1)/PythonJupyter-master/04-Semantics-Operators.ipynb\n",
      "/home/vinayaka/Downloads/PythonJupyter-master(1)/PythonJupyter-master/cardvalidator .ipynb\n",
      "/home/vinayaka/Downloads/PythonJupyter-master(1)/PythonJupyter-master/kmv.txt\n",
      "/home/vinayaka/Downloads/PythonJupyter-master(1)/PythonJupyter-master/Untitled.ipynb\n",
      "/home/vinayaka/Downloads/PythonJupyter-master(1)/PythonJupyter-master/battermonitoring.ipynb\n",
      "/home/vinayaka/Downloads/PythonJupyter-master(1)/PythonJupyter-master/lkhkhSDlg.png\n",
      "/home/vinayaka/Downloads/PythonJupyter-master(1)/PythonJupyter-master/18-Decorators.ipynb\n",
      "/home/vinayaka/Downloads/PythonJupyter-master(1)/PythonJupyter-master/time.pdf\n",
      "/home/vinayaka/Downloads/PythonJupyter-master(1)/PythonJupyter-master/multithread.ipynb\n",
      "/home/vinayaka/Downloads/PythonJupyter-master(1)/PythonJupyter-master/chatbot .ipynb\n",
      "/home/vinayaka/Downloads/PythonJupyter-master(1)/PythonJupyter-master/Untitled2.ipynb\n",
      "/home/vinayaka/Downloads/PythonJupyter-master(1)/PythonJupyter-master/Flask-Url.zip\n",
      "/home/vinayaka/Downloads/PythonJupyter-master(1)/PythonJupyter-master/db1.ipynb\n",
      "/home/vinayaka/Downloads/PythonJupyter-master(1)/PythonJupyter-master/09-Errors-and-Exceptions.ipynb\n",
      "/home/vinayaka/Downloads/PythonJupyter-master(1)/PythonJupyter-master/13-Modules-and-Packages.ipynb\n",
      "/home/vinayaka/Downloads/PythonJupyter-master(1)/PythonJupyter-master/tkinter.ipynb\n",
      "/home/vinayaka/Downloads/PythonJupyter-master(1)/PythonJupyter-master/user.xml\n",
      "/home/vinayaka/Downloads/PythonJupyter-master(1)/PythonJupyter-master/filehandling .ipynb\n",
      "/home/vinayaka/Downloads/PythonJupyter-master(1)/PythonJupyter-master/specialprograms.ipynb\n",
      "/home/vinayaka/Downloads/PythonJupyter-master(1)/PythonJupyter-master/Untitled1.ipynb\n",
      "/home/vinayaka/Downloads/PythonJupyter-master(1)/PythonJupyter-master/thingsboard.ipynb\n",
      "/home/vinayaka/Downloads/PythonJupyter-master(1)/PythonJupyter-master/map,reduce,filter.ipynb\n",
      "/home/vinayaka/Downloads/PythonJupyter-master(1)/PythonJupyter-master/en.mp3\n",
      "/home/vinayaka/Downloads/PythonJupyter-master(1)/PythonJupyter-master/file.txt\n",
      "/home/vinayaka/Downloads/PythonJupyter-master(1)/PythonJupyter-master/output.csv\n",
      "/home/vinayaka/Downloads/PythonJupyter-master(1)/PythonJupyter-master/myqr.svg\n",
      "/home/vinayaka/Downloads/PythonJupyter-master(1)/PythonJupyter-master/Flask-URL-Shortener-master (1).zip\n",
      "/home/vinayaka/Downloads/PythonJupyter-master(1)/PythonJupyter-master/mydatabase.db\n",
      "/home/vinayaka/Downloads/PythonJupyter-master(1)/PythonJupyter-master/regularexpresssion.ipynb\n",
      "/home/vinayaka/Downloads/PythonJupyter-master(1)/PythonJupyter-master/15-Preview-of-Data-Science-Tools.ipynb\n",
      "/home/vinayaka/Downloads/PythonJupyter-master(1)/PythonJupyter-master/args and kwargs .ipynb\n",
      "/home/vinayaka/Downloads/PythonJupyter-master(1)/PythonJupyter-master/collections .ipynb\n",
      "/home/vinayaka/Downloads/PythonJupyter-master(1)/PythonJupyter-master/battery.py\n",
      "/home/vinayaka/Downloads/PythonJupyter-master(1)/PythonJupyter-master/gen.txt\n",
      "/home/vinayaka/Downloads/PythonJupyter-master(1)/PythonJupyter-master/01-How-to-Run-Python-Code.ipynb\n",
      "/home/vinayaka/Downloads/PythonJupyter-master(1)/PythonJupyter-master/06-Built-in-Data-Structures.ipynb\n",
      "/home/vinayaka/Downloads/PythonJupyter-master(1)/PythonJupyter-master/foo.txt\n",
      "/home/vinayaka/Downloads/PythonJupyter-master(1)/PythonJupyter-master/threading2.ipynb\n",
      "/home/vinayaka/Downloads/PythonJupyter-master(1)/PythonJupyter-master/collections.ipynb\n",
      "/home/vinayaka/Downloads/PythonJupyter-master(1)/PythonJupyter-master/advancedclasses.ipynb\n",
      "/home/vinayaka/Downloads/PythonJupyter-master(1)/PythonJupyter-master/12-Generators.ipynb\n",
      "/home/vinayaka/Downloads/PythonJupyter-master(1)/PythonJupyter-master/machinevision.ipynb\n",
      "/home/vinayaka/Downloads/PythonJupyter-master(1)/PythonJupyter-master/Good logging practice in Python – Fang's coding note.pdf\n",
      "/home/vinayaka/Downloads/PythonJupyter-master(1)/PythonJupyter-master/08-Defining-Functions.ipynb\n",
      "/home/vinayaka/Downloads/PythonJupyter-master(1)/PythonJupyter-master/classesobjects.ipynb\n",
      "/home/vinayaka/Downloads/PythonJupyter-master(1)/PythonJupyter-master/07-Control-Flow-Statements.ipynb\n",
      "/home/vinayaka/Downloads/PythonJupyter-master(1)/PythonJupyter-master/audio.ipynb\n",
      "/home/vinayaka/Downloads/PythonJupyter-master(1)/PythonJupyter-master/os.ipynb\n",
      "/home/vinayaka/Downloads/PythonJupyter-master(1)/PythonJupyter-master/README.md\n",
      "/home/vinayaka/Downloads/PythonJupyter-master(1)/PythonJupyter-master/networking.ipynb\n",
      "/home/vinayaka/Downloads/PythonJupyter-master(1)/PythonJupyter-master/writejson.json\n",
      "/home/vinayaka/Downloads/PythonJupyter-master(1)/PythonJupyter-master/datetime and os.docx\n",
      "/home/vinayaka/Downloads/PythonJupyter-master(1)/PythonJupyter-master/pyrss2gen.xml\n",
      "/home/vinayaka/Downloads/PythonJupyter-master(1)/PythonJupyter-master/xmldata_parsing.xml\n",
      "/home/vinayaka/Downloads/PythonJupyter-master(1)/PythonJupyter-master/images.jpg\n",
      "/home/vinayaka/Downloads/PythonJupyter-master(1)/PythonJupyter-master/vin.zip\n",
      "/home/vinayaka/Downloads/PythonJupyter-master(1)/PythonJupyter-master/adafruit.ipynb\n",
      "/home/vinayaka/Downloads/PythonJupyter-master(1)/PythonJupyter-master/listcomprehension.ipynb\n",
      "/home/vinayaka/Downloads/PythonJupyter-master(1)/PythonJupyter-master/flask.ipynb\n",
      "/home/vinayaka/Downloads/PythonJupyter-master(1)/PythonJupyter-master/08-1 Functions.ipynb\n",
      "/home/vinayaka/Downloads/PythonJupyter-master(1)/PythonJupyter-master/03-Semantics-Variables.ipynb\n",
      "/home/vinayaka/Downloads/PythonJupyter-master(1)/PythonJupyter-master/TCP_IP_socket_diagram.png\n",
      "/home/vinayaka/Downloads/PythonJupyter-master(1)/PythonJupyter-master/thread.png\n",
      "/home/vinayaka/Downloads/PythonJupyter-master(1)/PythonJupyter-master/xmlparser.ipynb\n",
      "/home/vinayaka/Downloads/PythonJupyter-master(1)/PythonJupyter-master/output.xml\n",
      "/home/vinayaka/Downloads/PythonJupyter-master(1)/PythonJupyter-master/14-Strings-and-Regular-Expressions.ipynb\n",
      "/home/vinayaka/Downloads/PythonJupyter-master(1)/PythonJupyter-master/machine learning.ipynb\n",
      "/home/vinayaka/Downloads/PythonJupyter-master(1)/PythonJupyter-master/Names.csv\n",
      "/home/vinayaka/Downloads/PythonJupyter-master(1)/PythonJupyter-master/10-Iterators.ipynb\n",
      "/home/vinayaka/Downloads/PythonJupyter-master(1)/PythonJupyter-master/05-Built-in-Scalar-Types.ipynb\n",
      "/home/vinayaka/Downloads/PythonJupyter-master(1)/PythonJupyter-master/irctc.ipynb\n",
      "/home/vinayaka/Downloads/PythonJupyter-master(1)/PythonJupyter-master/moviedata.json\n",
      "/home/vinayaka/Downloads/PythonJupyter-master(1)/PythonJupyter-master/haarcascade_frontalface_default.xml\n",
      "/home/vinayaka/Downloads/PythonJupyter-master(1)/PythonJupyter-master/file.txt.bak\n",
      "/home/vinayaka/Downloads/PythonJupyter-master(1)/PythonJupyter-master/package/regi.py\n",
      "/home/vinayaka/Downloads/PythonJupyter-master(1)/PythonJupyter-master/package/log.py\n",
      "/home/vinayaka/Downloads/PythonJupyter-master(1)/PythonJupyter-master/package/folder1/log.py\n",
      "/home/vinayaka/Downloads/PythonJupyter-master(1)/PythonJupyter-master/package/folder1/SuB_folder/regi.py\n",
      "/home/vinayaka/Downloads/PythonJupyter-master(1)/PythonJupyter-master/package/folder1/SuB_folder/file1.log\n",
      "/home/vinayaka/Downloads/PythonJupyter-master(1)/PythonJupyter-master/package/folder1/SuB_folder/imp.py\n",
      "/home/vinayaka/Downloads/PythonJupyter-master(1)/PythonJupyter-master/.ipynb_checkpoints/battermonitoring-checkpoint.ipynb\n",
      "/home/vinayaka/Downloads/PythonJupyter-master(1)/PythonJupyter-master/.ipynb_checkpoints/db1-checkpoint.ipynb\n",
      "/home/vinayaka/Downloads/PythonJupyter-master(1)/PythonJupyter-master/.ipynb_checkpoints/tkinter-checkpoint.ipynb\n",
      "/home/vinayaka/Downloads/PythonJupyter-master(1)/PythonJupyter-master/.ipynb_checkpoints/collections -checkpoint.ipynb\n",
      "/home/vinayaka/Downloads/PythonJupyter-master(1)/PythonJupyter-master/multithreaded/sendingdata.py\n",
      "/home/vinayaka/Downloads/PythonJupyter-master(1)/PythonJupyter-master/multithreaded/clienta.py\n",
      "/home/vinayaka/Downloads/PythonJupyter-master(1)/PythonJupyter-master/multithreaded/server.py\n",
      "/home/vinayaka/Downloads/PythonJupyter-master(1)/PythonJupyter-master/multithreaded/clinetb.py\n",
      "/home/vinayaka/Downloads/PythonJupyter-master(1)/PythonJupyter-master/multithreaded/multiprocessandthreads/thread.py\n",
      "/home/vinayaka/Downloads/PythonJupyter-master(1)/PythonJupyter-master/multithreaded/multiprocessandthreads/multiprocess.py\n",
      "/home/vinayaka/Downloads/PythonJupyter-master(1)/PythonJupyter-master/multithreaded/multiprocessandthreads/multithreading.py\n",
      "/home/vinayaka/Downloads/PythonJupyter-master(1)/PythonJupyter-master/multithreaded/multiprocessandthreads/__pycache__/thread.cpython-36.pyc\n",
      "/home/vinayaka/Downloads/PythonJupyter-master(1)/PythonJupyter-master/flask_eg/flasklocalserver.ipynb\n",
      "/home/vinayaka/Downloads/PythonJupyter-master(1)/PythonJupyter-master/flask_eg/static/style.css\n",
      "/home/vinayaka/Downloads/PythonJupyter-master(1)/PythonJupyter-master/flask_eg/templates/hello.html\n",
      "/home/vinayaka/Downloads/PythonJupyter-master(1)/PythonJupyter-master/flask_eg/templates/editedfirst.html\n",
      "/home/vinayaka/Downloads/PythonJupyter-master(1)/PythonJupyter-master/flask_eg/templates/first_app.html\n",
      "/home/vinayaka/Downloads/PythonJupyter-master(1)/PythonJupyter-master/flask_eg/templates/_formhelpers.html\n"
     ]
    },
    {
     "name": "stdout",
     "output_type": "stream",
     "text": [
      "All files zipped successfully!\n"
     ]
    }
   ],
   "source": [
    "# importing required modules \n",
    "from zipfile import ZipFile \n",
    "import os \n",
    "\n",
    "def get_all_file_paths(directory): \n",
    "\n",
    "\t# initializing empty file paths list \n",
    "\tfile_paths = [] \n",
    "\n",
    "\t# crawling through directory and subdirectories \n",
    "\tfor root, directories, files in os.walk(directory): \n",
    "\t\tfor filename in files: \n",
    "\t\t\t# join the two strings in order to form the full filepath. \n",
    "\t\t\tfilepath = os.path.join(root, filename) \n",
    "\t\t\tfile_paths.append(filepath) \n",
    "\n",
    "\t# returning all file paths \n",
    "\treturn file_paths\t\t \n",
    "\n",
    "def main(): \n",
    "\t# path to folder which needs to be zipped \n",
    "\tdirectory = '/home/vinayaka/Downloads/PythonJupyter-master(1)'\n",
    "\n",
    "\t# calling function to get all file paths in the directory \n",
    "\tfile_paths = get_all_file_paths(directory) \n",
    "\n",
    "\t# printing the list of all files to be zipped \n",
    "\tprint('Following files will be zipped:') \n",
    "\tfor file_name in file_paths: \n",
    "\t\tprint(file_name) \n",
    "\n",
    "\t# writing files to a zipfile \n",
    "\twith ZipFile('my_python_files.zip','w') as zip: \n",
    "\t\t# writing each file one by one \n",
    "\t\tfor file in file_paths: \n",
    "\t\t\tzip.write(file) \n",
    "\n",
    "\tprint('All files zipped successfully!')\t\t \n",
    "\n",
    "\n",
    "if __name__ == \"__main__\": \n",
    "\tmain() \n"
   ]
  },
  {
   "cell_type": "code",
   "execution_count": null,
   "metadata": {},
   "outputs": [],
   "source": []
  }
 ],
 "metadata": {
  "kernelspec": {
   "display_name": "Python 3",
   "language": "python",
   "name": "python3"
  },
  "language_info": {
   "codemirror_mode": {
    "name": "ipython",
    "version": 3
   },
   "file_extension": ".py",
   "mimetype": "text/x-python",
   "name": "python",
   "nbconvert_exporter": "python",
   "pygments_lexer": "ipython3",
   "version": "3.6.8"
  }
 },
 "nbformat": 4,
 "nbformat_minor": 2
}
