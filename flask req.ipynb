{
 "cells": [
  {
   "cell_type": "code",
   "execution_count": 1,
   "metadata": {},
   "outputs": [
    {
     "name": "stdout",
     "output_type": "stream",
     "text": [
      "{'message': 'Hello, World!'}\n"
     ]
    }
   ],
   "source": [
    "import requests\n",
    "response = requests.get(\" http://localhost:9000/\")\n",
    "print(response.json())"
   ]
  },
  {
   "cell_type": "code",
   "execution_count": 2,
   "metadata": {},
   "outputs": [
    {
     "data": {
      "text/plain": [
       "{'quarks': [{'charge': '+2/3', 'name': 'up'},\n",
       "  {'charge': '-1/3', 'name': 'down'},\n",
       "  {'charge': '+2/3', 'name': 'charm'},\n",
       "  {'charge': '-1/3', 'name': 'strange'}]}"
      ]
     },
     "execution_count": 2,
     "metadata": {},
     "output_type": "execute_result"
    }
   ],
   "source": [
    "response = requests.get(\"http://127.0.0.1:9000/quarks\")\n",
    "response.json()"
   ]
  },
  {
   "cell_type": "code",
   "execution_count": 4,
   "metadata": {},
   "outputs": [
    {
     "name": "stdout",
     "output_type": "stream",
     "text": [
      "{'quarks': [{'charge': '+2/3', 'name': 'up'}, {'charge': '-1/3', 'name': 'down'}, {'charge': '+2/3', 'name': 'charm'}, {'charge': '-1/3', 'name': 'strange'}]}\n",
      "up\n",
      "-1/3\n"
     ]
    }
   ],
   "source": [
    "jsonObj = response.json()\n",
    "print(jsonObj)\n",
    "print(jsonObj['quarks'][0]['name'])\n",
    "\n",
    "print(jsonObj['quarks'][1]['charge'])\n"
   ]
  },
  {
   "cell_type": "code",
   "execution_count": 5,
   "metadata": {},
   "outputs": [
    {
     "data": {
      "text/plain": [
       "{'quarks': {'charge': '+2/3', 'name': 'up'}}"
      ]
     },
     "execution_count": 5,
     "metadata": {},
     "output_type": "execute_result"
    }
   ],
   "source": [
    "response = requests.get(\"http://127.0.0.1:9000/quarks/up\")\n",
    "response.json()"
   ]
  },
  {
   "cell_type": "code",
   "execution_count": 7,
   "metadata": {},
   "outputs": [
    {
     "data": {
      "text/plain": [
       "{'quarks': [{'charge': '+2/3', 'name': 'up'},\n",
       "  {'charge': '-1/3', 'name': 'down'},\n",
       "  {'charge': '+2/3', 'name': 'charm'},\n",
       "  {'charge': '-1/3', 'name': 'strange'},\n",
       "  {'charge': '+2/3', 'name': 'top'},\n",
       "  {'charge': '+2/3', 'name': 'stop'}]}"
      ]
     },
     "execution_count": 7,
     "metadata": {},
     "output_type": "execute_result"
    }
   ],
   "source": [
    "response = requests.post(\"http://127.0.0.1:9000/quarks\", json={\"name\":\"top\",\"charge\":\"+2/3\"})\n",
    "response.json()"
   ]
  },
  {
   "cell_type": "code",
   "execution_count": null,
   "metadata": {},
   "outputs": [],
   "source": []
  }
 ],
 "metadata": {
  "kernelspec": {
   "display_name": "Python 3",
   "language": "python",
   "name": "python3"
  },
  "language_info": {
   "codemirror_mode": {
    "name": "ipython",
    "version": 3
   },
   "file_extension": ".py",
   "mimetype": "text/x-python",
   "name": "python",
   "nbconvert_exporter": "python",
   "pygments_lexer": "ipython3",
   "version": "3.6.5"
  }
 },
 "nbformat": 4,
 "nbformat_minor": 2
}
