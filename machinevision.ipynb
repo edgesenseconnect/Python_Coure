{
 "cells": [
  {
   "cell_type": "code",
   "execution_count": null,
   "metadata": {},
   "outputs": [],
   "source": [
    "import requests\n",
    "import json\n",
    "headers = {'content-type': 'application/json'}\n",
    "\n",
    "r = requests.get('http://apis.paralleldots.com/v4/sentiment?appid=600ee2ea93eb9fed31b58b0ae8f74d43&q=Bangalore,IN',headers = headers)\n",
    "k = json.loads(r.content)\n",
    "print(k['weather'])\n",
    "print(k)\n",
    "\n",
    "# params={'q': 'London,uk', 'APPID': 600ee2ea93eb9fed31b58b0ae8f74d43}"
   ]
  },
  {
   "cell_type": "code",
   "execution_count": null,
   "metadata": {},
   "outputs": [],
   "source": [
    "#Sentiment \n",
    "# importing the requests library \n",
    "import requests \n",
    "\n",
    "# defining the api-endpoint \n",
    "API_ENDPOINT = \"http://apis.paralleldots.com/v4/sentiment\"\n",
    "\n",
    "# your API key here \n",
    "API_KEY = \"miX6NJrqKGbIg4WReHNdV8i8QEULlV53V4hklTsLLDM\"\n",
    "\n",
    "# data to be sent to api \n",
    "data = {'api_key':API_KEY, \n",
    "\t\t'text':[\"Come on,lets play together\"]\n",
    "\t\t} \n",
    "\n",
    "# sending post request and saving response as response object \n",
    "r = requests.post(url = API_ENDPOINT, data = data) \n",
    "\n",
    "# extracting response text \n",
    "result = r.text \n",
    "print(\"The result of senstiment is:%s\"%result) \n"
   ]
  },
  {
   "cell_type": "code",
   "execution_count": null,
   "metadata": {},
   "outputs": [],
   "source": [
    "#Similarity \n",
    "# importing the requests library \n",
    "import requests \n",
    "\n",
    "# defining the api-endpoint \n",
    "API_ENDPOINT = \"http://apis.paralleldots.com/v4/similarity\"\n",
    "\n",
    "# your API key here \n",
    "API_KEY = \"miX6NJrqKGbIg4WReHNdV8i8QEULlV53V4hklTsLLDM\"\n",
    "\n",
    "# data to be sent to api \n",
    "data = {'api_key':API_KEY, \n",
    "\t\t'text_1':\"There is a tipping point’: UN warns climate change goals laid out in Paris accord are almost out of reach\",\n",
    "        'text_2':\"Global warming set to exceed Paris agreement’s 1.5C limit by 2040s, according to draft UN report\"\n",
    "\t\t} \n",
    "\n",
    "# sending post request and saving response as response object \n",
    "r = requests.post(url = API_ENDPOINT, data = data) \n",
    "\n",
    "# extracting response text \n",
    "result = r.text \n",
    "print(\"The result of similarity is:%s\"%result) \n"
   ]
  },
  {
   "cell_type": "code",
   "execution_count": null,
   "metadata": {},
   "outputs": [],
   "source": [
    "#named entity recognition \n",
    "# importing the requests library \n",
    "import requests\n",
    "\n",
    "\n",
    "# defining the api-endpoint \n",
    "API_ENDPOINT = \"http://apis.paralleldots.com/v4/ner\"\n",
    "\n",
    "# your API key here \n",
    "API_KEY = \"miX6NJrqKGbIg4WReHNdV8i8QEULlV53V4hklTsLLDM\"\n",
    "\n",
    "# data to be sent to api \n",
    "data = {'api_key':API_KEY, \n",
    "\t\t'text':'Apple was founded by Steve Jobs',\n",
    "        'lang_code':'en'\n",
    "\t\t} \n",
    "\n",
    "# sending post request and saving response as response object \n",
    "r = requests.post(url = API_ENDPOINT, data = data) \n",
    "\n",
    "# extracting response text \n",
    "result = r.text \n",
    "print(\"The result of named entity recognition is:%s\"%result) "
   ]
  },
  {
   "cell_type": "code",
   "execution_count": null,
   "metadata": {},
   "outputs": [],
   "source": [
    "#keyword recognition \n",
    "# importing the requests library \n",
    "import requests\n",
    "\n",
    "\n",
    "# defining the api-endpoint \n",
    "API_ENDPOINT = \"http://apis.paralleldots.com/v4/keywords\"\n",
    "\n",
    "# your API key here \n",
    "API_KEY = \"miX6NJrqKGbIg4WReHNdV8i8QEULlV53V4hklTsLLDM\"\n",
    "\n",
    "# data to be sent to api \n",
    "data = {'api_key':API_KEY, \n",
    "\t\t'text':\"For the Yankees, it took a stunning comeback after being down 2-0 to the\\\n",
    "        Indians in the American League Division Series. For the Astros, it took beating Chris Sale to top the Red Sox.\",\n",
    "        'lang_code':'en'\n",
    "\t\t} \n",
    "\n",
    "# sending post request and saving response as response object \n",
    "r = requests.post(url = API_ENDPOINT, data = data) \n",
    "\n",
    "# extracting response text \n",
    "result = r.text \n",
    "print(\"The result of keywords is:%s\"%result) "
   ]
  },
  {
   "cell_type": "code",
   "execution_count": null,
   "metadata": {},
   "outputs": [],
   "source": [
    "#emotion detection  \n",
    "# importing the requests library \n",
    "import requests\n",
    "\n",
    "\n",
    "# defining the api-endpoint \n",
    "API_ENDPOINT = \"http://apis.paralleldots.com/v4/emotion\"\n",
    "\n",
    "# your API key here \n",
    "API_KEY = \"miX6NJrqKGbIg4WReHNdV8i8QEULlV53V4hklTsLLDM\"\n",
    "\n",
    "# data to be sent to api \n",
    "data = {'api_key':API_KEY, \n",
    "\t\t'text':\"I am trying to imagine you with a personality\",\n",
    "        \n",
    "\t\t} \n",
    "\n",
    "# sending post request and saving response as response object \n",
    "r = requests.post(url = API_ENDPOINT, data = data) \n",
    "\n",
    "# extracting response text \n",
    "result = r.text \n",
    "print(\"The result of excitation is:%s\",result) "
   ]
  },
  {
   "cell_type": "code",
   "execution_count": null,
   "metadata": {},
   "outputs": [],
   "source": [
    "#sarcasm detection  \n",
    "# importing the requests library \n",
    "import requests\n",
    "\n",
    "\n",
    "# defining the api-endpoint \n",
    "API_ENDPOINT = \"http://apis.paralleldots.com/v4/sarcasm\"\n",
    "\n",
    "# your API key here \n",
    "API_KEY = \"miX6NJrqKGbIg4WReHNdV8i8QEULlV53V4hklTsLLDM\"\n",
    "\n",
    "# data to be sent to api \n",
    "data = {'api_key':API_KEY, \n",
    "\t\t'text':\"I am trying to imagine you with a personality\",\n",
    "        \n",
    "\t\t} \n",
    "\n",
    "# sending post request and saving response as response object \n",
    "r = requests.post(url = API_ENDPOINT, data = data) \n",
    "\n",
    "# extracting response text \n",
    "result = r.text \n",
    "print(\"The result of sarcasrtic is:%s\",result) "
   ]
  },
  {
   "cell_type": "code",
   "execution_count": null,
   "metadata": {},
   "outputs": [],
   "source": [
    "#intent detection  \n",
    "# importing the requests library \n",
    "import requests\n",
    "\n",
    "\n",
    "# defining the api-endpoint \n",
    "API_ENDPOINT = \"http://apis.paralleldots.com/v4/intent\"\n",
    "\n",
    "# your API key here \n",
    "API_KEY = \"miX6NJrqKGbIg4WReHNdV8i8QEULlV53V4hklTsLLDM\"\n",
    "\n",
    "# data to be sent to api \n",
    "data = {'api_key':API_KEY, \n",
    "\t\t'text':' do I cancel my ticket from the app'\n",
    "        \n",
    "\t\t} \n",
    "\n",
    "# sending post request and saving response as response object \n",
    "r = requests.post(url = API_ENDPOINT, data = data) \n",
    "\n",
    "# extracting response text \n",
    "result = r.text \n",
    "print(\"The result of intent is:%s\",result) "
   ]
  },
  {
   "cell_type": "code",
   "execution_count": null,
   "metadata": {},
   "outputs": [],
   "source": [
    "#abuse detection  \n",
    "# importing the requests library \n",
    "import requests\n",
    "\n",
    "\n",
    "# defining the api-endpoint \n",
    "API_ENDPOINT = \"http://apis.paralleldots.com/v4/abuse\"\n",
    "\n",
    "# your API key here \n",
    "API_KEY = \"miX6NJrqKGbIg4WReHNdV8i8QEULlV53V4hklTsLLDM\"\n",
    "\n",
    "# data to be sent to api \n",
    "data = {'api_key':API_KEY, \n",
    "\t\t'text':' you idiot '\n",
    "        \n",
    "\t\t} \n",
    "\n",
    "# sending post request and saving response as response object \n",
    "r = requests.post(url = API_ENDPOINT, data = data) \n",
    "\n",
    "# extracting response text \n",
    "result = r.text \n",
    "print(\"The result of abuse  is:%s\",result) "
   ]
  },
  {
   "cell_type": "markdown",
   "metadata": {},
   "source": [
    "# https://deepai.org/"
   ]
  },
  {
   "cell_type": "code",
   "execution_count": null,
   "metadata": {},
   "outputs": [],
   "source": [
    "import requests\n",
    "r = requests.post(\n",
    "    \"http://api.deepai.org/api/summarization\",\n",
    "    files={\n",
    "        'text': open('3gables.txt', 'rb'),\n",
    "    },\n",
    "    headers={'api-key': 'd4452449-07cc-419b-9a8e-e3a4033b1c6b'}\n",
    ")\n",
    "print(r.json())\n"
   ]
  },
  {
   "cell_type": "code",
   "execution_count": null,
   "metadata": {},
   "outputs": [],
   "source": [
    "# face recogniton \n",
    "import requests\n",
    "r = requests.post(\"http://api.deepai.org/api/facial-recognition\",files={'image':open('we.jpg', 'rb')},headers={'api-key': 'd4452449-07cc-419b-9a8e-e3a4033b1c6b'})\n",
    "print(r.text)\n"
   ]
  },
  {
   "cell_type": "code",
   "execution_count": null,
   "metadata": {},
   "outputs": [],
   "source": [
    "# celebrety \n",
    "import requests\n",
    "r = requests.post(\"http://api.deepai.org/api/celebrity-recognition\",files={'image':open('images.jpg', 'rb')},headers={'api-key': 'd4452449-07cc-419b-9a8e-e3a4033b1c6b'})\n",
    "print(r.text)"
   ]
  },
  {
   "cell_type": "code",
   "execution_count": null,
   "metadata": {},
   "outputs": [],
   "source": [
    "# emotion detection \n",
    "import requests\n",
    "r = requests.post(\n",
    "    \"http://api.deepai.org/api/facial-expression-recognition\",\n",
    "    files={\n",
    "        'image': open('we.jpg', 'rb'),\n",
    "    },\n",
    "    headers={'api-key': 'd4452449-07cc-419b-9a8e-e3a4033b1c6b'}\n",
    ")\n",
    "print(r.json())"
   ]
  },
  {
   "cell_type": "code",
   "execution_count": null,
   "metadata": {},
   "outputs": [],
   "source": [
    "# demographic detection \n",
    "import requests\n",
    "r = requests.post(\n",
    "    \"http://api.deepai.org/api/demographic-recognition\",\n",
    "    files={\n",
    "        'image': open('we.jpg', 'rb'),\n",
    "    },\n",
    "    headers={'api-key': 'd4452449-07cc-419b-9a8e-e3a4033b1c6b'}\n",
    ")\n",
    "print(r.json())"
   ]
  },
  {
   "cell_type": "code",
   "execution_count": null,
   "metadata": {},
   "outputs": [],
   "source": [
    "import requests\n",
    "r = requests.post(\n",
    "    \"http://api.deepai.org/api/places\",\n",
    "    files={\n",
    "        'image': open('scene.jpg', 'rb'),\n",
    "    },\n",
    "    headers={'api-key': 'd4452449-07cc-419b-9a8e-e3a4033b1c6b'}\n",
    ")\n",
    "print(r.json())"
   ]
  },
  {
   "cell_type": "code",
   "execution_count": null,
   "metadata": {},
   "outputs": [],
   "source": [
    "# similarity\n",
    "import requests\n",
    "r = requests.post(\n",
    "    \"http://api.deepai.org/api/image-similarity\",\n",
    "    files={\n",
    "        'image1': open('we.jpg', 'rb'),\n",
    "        'image2': open('we.jpg', 'rb'),\n",
    "    },\n",
    "    headers={'api-key': 'd4452449-07cc-419b-9a8e-e3a4033b1c6b'}\n",
    ")\n",
    "print(r.json())"
   ]
  },
  {
   "cell_type": "code",
   "execution_count": null,
   "metadata": {},
   "outputs": [],
   "source": [
    "import requests\n",
    "r = requests.post(\n",
    "    \"http://api.deepai.org/api/nsfw-detector\",\n",
    "    files={\n",
    "        'image': open('c2.jpg', 'rb'),\n",
    "    },\n",
    "    headers={'api-key': 'd4452449-07cc-419b-9a8e-e3a4033b1c6b'}\n",
    ")\n",
    "print(r.json())"
   ]
  },
  {
   "cell_type": "code",
   "execution_count": null,
   "metadata": {},
   "outputs": [],
   "source": [
    "import requests\n",
    "r = requests.post(\n",
    "    \"http://api.deepai.org/api/densecap\",\n",
    "    files={\n",
    "        'image': open('c2.jpg', 'rb'),\n",
    "    },\n",
    "    headers={'api-key': 'd4452449-07cc-419b-9a8e-e3a4033b1c6b'}\n",
    ")\n",
    "print(r.json())"
   ]
  },
  {
   "cell_type": "markdown",
   "metadata": {},
   "source": [
    "# https://cloud.openalpr.com/cloudapi/"
   ]
  },
  {
   "cell_type": "code",
   "execution_count": null,
   "metadata": {},
   "outputs": [],
   "source": [
    "#!/usr/bin/python\n",
    "\n",
    "import requests\n",
    "import base64\n",
    "import json\n",
    "\n",
    "# Sample image file is available at http://plates.openalpr.com/ea7the.jpg\n",
    "IMAGE_PATH = 'carr.jpg'\n",
    "SECRET_KEY = 'sk_3810a8f0750b2fa316d8af0e'\n",
    "\n",
    "with open(IMAGE_PATH, 'rb') as image_file:\n",
    "    img_base64 = base64.b64encode(image_file.read())\n",
    "    print(img_base64)\n",
    "\n",
    "url = 'https://api.openalpr.com/v2/recognize_bytes?recognize_vehicle=1&country=us&secret_key=%s' % (SECRET_KEY)\n",
    "r = requests.post(url, data = img_base64)\n",
    "print(r)\n",
    "#print(json.dumps(r.json(), indent=2))"
   ]
  },
  {
   "cell_type": "code",
   "execution_count": null,
   "metadata": {},
   "outputs": [],
   "source": []
  }
 ],
 "metadata": {
  "kernelspec": {
   "display_name": "Python 3",
   "language": "python",
   "name": "python3"
  },
  "language_info": {
   "codemirror_mode": {
    "name": "ipython",
    "version": 3
   },
   "file_extension": ".py",
   "mimetype": "text/x-python",
   "name": "python",
   "nbconvert_exporter": "python",
   "pygments_lexer": "ipython3",
   "version": "3.6.5"
  }
 },
 "nbformat": 4,
 "nbformat_minor": 2
}
