{
 "cells": [
  {
   "cell_type": "code",
   "execution_count": 1,
   "metadata": {},
   "outputs": [
    {
     "name": "stdout",
     "output_type": "stream",
     "text": [
      "My numbers are: 1, 2\n",
      "Hi there\n"
     ]
    }
   ],
   "source": [
    "def log(message, values):\n",
    "    if not values:\n",
    "        print(message)\n",
    "    else:\n",
    "        values_str = ', '.join(str(x) for x in values)\n",
    "        print('%s: %s' % (message, values_str))\n",
    "\n",
    "log('My numbers are', [1, 2])\n",
    "log('Hi there', [])"
   ]
  },
  {
   "cell_type": "code",
   "execution_count": 2,
   "metadata": {},
   "outputs": [
    {
     "name": "stdout",
     "output_type": "stream",
     "text": [
      "My numbers are: 1, 2\n",
      "Hi there\n"
     ]
    }
   ],
   "source": [
    "def log(message, *values):  # The only difference\n",
    "    if not values:\n",
    "        print(message)\n",
    "    else:\n",
    "        values_str = ', '.join(str(x) for x in values)\n",
    "        print('%s: %s' % (message, values_str))\n",
    "\n",
    "log('My numbers are', 1, 2)\n",
    "log('Hi there')  # Much better"
   ]
  },
  {
   "cell_type": "code",
   "execution_count": 3,
   "metadata": {},
   "outputs": [
    {
     "name": "stdout",
     "output_type": "stream",
     "text": [
      "Favorite colors: 7, 33, 99\n"
     ]
    }
   ],
   "source": [
    "favorites = [7, 33, 99]\n",
    "log('Favorite colors', *favorites)"
   ]
  },
  {
   "cell_type": "code",
   "execution_count": 6,
   "metadata": {},
   "outputs": [
    {
     "name": "stdout",
     "output_type": "stream",
     "text": [
      "(0, 1, 2, 3, 4, 5, 6, 7, 8, 9)\n"
     ]
    }
   ],
   "source": [
    "def my_generator():\n",
    "    for i in range(10):\n",
    "        yield i\n",
    "\n",
    "def my_func(*args):\n",
    "    print(args)\n",
    "\n",
    "it = my_generator()\n",
    "my_func(*it)"
   ]
  },
  {
   "cell_type": "code",
   "execution_count": 7,
   "metadata": {},
   "outputs": [
    {
     "name": "stdout",
     "output_type": "stream",
     "text": [
      "1: Favorites: 7, 33\n",
      "Favorite numbers: 7: 33\n"
     ]
    }
   ],
   "source": [
    "def log(sequence, message, *values):\n",
    "    if not values:\n",
    "        print('%s: %s' % (sequence, message))\n",
    "    else:\n",
    "        values_str = ', '.join(str(x) for x in values)\n",
    "        print('%s: %s: %s' % (sequence, message, values_str))\n",
    "\n",
    "log(1, 'Favorites', 7, 33)      # New usage is OK\n",
    "log('Favorite numbers', 7, 33)  # Old usage breaks"
   ]
  },
  {
   "cell_type": "code",
   "execution_count": null,
   "metadata": {},
   "outputs": [],
   "source": [
    "Optional Parameters \n"
   ]
  },
  {
   "cell_type": "code",
   "execution_count": 21,
   "metadata": {},
   "outputs": [],
   "source": [
    "def remainder(number, divisor):\n",
    "    return number % divisor\n",
    "\n"
   ]
  },
  {
   "cell_type": "code",
   "execution_count": 18,
   "metadata": {},
   "outputs": [
    {
     "data": {
      "text/plain": [
       "6"
      ]
     },
     "execution_count": 18,
     "metadata": {},
     "output_type": "execute_result"
    }
   ],
   "source": [
    "remainder(20, 7)\n",
    "remainder(20, divisor=7)\n",
    "remainder(number=20, divisor=7)\n",
    "remainder(divisor=7, number=20)"
   ]
  },
  {
   "cell_type": "code",
   "execution_count": 22,
   "metadata": {},
   "outputs": [
    {
     "ename": "SyntaxError",
     "evalue": "positional argument follows keyword argument (<ipython-input-22-9265fd4030d2>, line 1)",
     "output_type": "error",
     "traceback": [
      "\u001b[1;36m  File \u001b[1;32m\"<ipython-input-22-9265fd4030d2>\"\u001b[1;36m, line \u001b[1;32m1\u001b[0m\n\u001b[1;33m    remainder(number=20, 7)\u001b[0m\n\u001b[1;37m                        ^\u001b[0m\n\u001b[1;31mSyntaxError\u001b[0m\u001b[1;31m:\u001b[0m positional argument follows keyword argument\n"
     ]
    }
   ],
   "source": [
    "remainder(number=20, 7)"
   ]
  },
  {
   "cell_type": "code",
   "execution_count": 24,
   "metadata": {},
   "outputs": [
    {
     "data": {
      "text/plain": [
       "6"
      ]
     },
     "execution_count": 24,
     "metadata": {},
     "output_type": "execute_result"
    }
   ],
   "source": [
    "remainder(20, number = 7)"
   ]
  },
  {
   "cell_type": "code",
   "execution_count": 25,
   "metadata": {},
   "outputs": [
    {
     "ename": "SyntaxError",
     "evalue": "positional argument follows keyword argument (<ipython-input-25-9265fd4030d2>, line 1)",
     "output_type": "error",
     "traceback": [
      "\u001b[1;36m  File \u001b[1;32m\"<ipython-input-25-9265fd4030d2>\"\u001b[1;36m, line \u001b[1;32m1\u001b[0m\n\u001b[1;33m    remainder(number=20, 7)\u001b[0m\n\u001b[1;37m                        ^\u001b[0m\n\u001b[1;31mSyntaxError\u001b[0m\u001b[1;31m:\u001b[0m positional argument follows keyword argument\n"
     ]
    }
   ],
   "source": [
    "remainder(number=20, 7)\n",
    "\n"
   ]
  },
  {
   "cell_type": "code",
   "execution_count": 27,
   "metadata": {},
   "outputs": [
    {
     "data": {
      "text/plain": [
       "6"
      ]
     },
     "execution_count": 27,
     "metadata": {},
     "output_type": "execute_result"
    }
   ],
   "source": [
    "\n",
    "remainder(20, number = 7)"
   ]
  },
  {
   "cell_type": "code",
   "execution_count": null,
   "metadata": {},
   "outputs": [],
   "source": [
    "Default arguments with date time \n"
   ]
  },
  {
   "cell_type": "code",
   "execution_count": 34,
   "metadata": {},
   "outputs": [
    {
     "name": "stdout",
     "output_type": "stream",
     "text": [
      "2019-05-09 12:52:43.794384: Hi there!\n",
      "2019-05-09 12:52:43.794384: Hi again!\n"
     ]
    }
   ],
   "source": [
    "import datetime\n",
    "import time \n",
    "def log(message, when=datetime.datetime.now()):\n",
    "    print('%s: %s' % (when, message))\n",
    "\n",
    "log('Hi there!')\n",
    "time.sleep(12)\n",
    "log('Hi again!')"
   ]
  },
  {
   "cell_type": "code",
   "execution_count": 35,
   "metadata": {},
   "outputs": [
    {
     "name": "stdout",
     "output_type": "stream",
     "text": [
      "2019-05-09 12:54:30.484639: Hi there!\n",
      "2019-05-09 12:54:40.485604: Hi again!\n"
     ]
    }
   ],
   "source": [
    "import datetime\n",
    "import time\n",
    "\n",
    "def log(message, when=None):\n",
    "    \"\"\"Log a message with a timestamp.\n",
    "\n",
    "    Args:\n",
    "        message: Message to print.\n",
    "        when: datetime of when the message occurred.\n",
    "            Defaults to the present time.\n",
    "    \"\"\"\n",
    "    when = datetime.datetime.now() if when is None else when\n",
    "    print('%s: %s' % (when, message))\n",
    "    \n",
    "log('Hi there!')\n",
    "time.sleep(10)\n",
    "log('Hi again!')"
   ]
  },
  {
   "cell_type": "code",
   "execution_count": null,
   "metadata": {},
   "outputs": [],
   "source": []
  }
 ],
 "metadata": {
  "kernelspec": {
   "display_name": "Python 3",
   "language": "python",
   "name": "python3"
  },
  "language_info": {
   "codemirror_mode": {
    "name": "ipython",
    "version": 3
   },
   "file_extension": ".py",
   "mimetype": "text/x-python",
   "name": "python",
   "nbconvert_exporter": "python",
   "pygments_lexer": "ipython3",
   "version": "3.6.5"
  }
 },
 "nbformat": 4,
 "nbformat_minor": 2
}
