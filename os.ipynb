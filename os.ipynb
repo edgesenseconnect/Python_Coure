{
 "cells": [
  {
   "cell_type": "code",
   "execution_count": 13,
   "metadata": {},
   "outputs": [
    {
     "name": "stdout",
     "output_type": "stream",
     "text": [
      "['.ipynb_checkpoints', '00-Introduction.ipynb', '01-How-to-Run-Python-Code.ipynb', '02-Basic-Python-Syntax.ipynb', '03-Semantics-Variables.ipynb', '04-Semantics-Operators.ipynb', '05-Built-in-Scalar-Types.ipynb', '06-Built-in-Data-Structures.ipynb', '07-Control-Flow-Statements.ipynb', '08-1 Functions.ipynb', '08-Defining-Functions.ipynb', '09-Errors-and-Exceptions.ipynb', '10-Iterators.ipynb', '11-List-Comprehensions.ipynb', '12-Generators.ipynb', '13-Modules-and-Packages.ipynb', '14-Strings-and-Regular-Expressions.ipynb', '15-Preview-of-Data-Science-Tools.ipynb', '17-Figures.ipynb', 'adafruit.ipynb', 'advancedclasses.ipynb', 'args and kwargs .ipynb', 'audio.ipynb', 'authority.pem', 'cardvalidator .ipynb', 'certificate.pem.crt', 'chatbot .ipynb', 'classesobjects.ipynb', 'collections.ipynb', 'download.png', 'en.mp3', 'engineer.mp3', 'example_2.json', 'file.txt', 'filehandling .ipynb', 'flask req.ipynb', 'Flask-URL-Shortener-master', 'Flask-URL-Shortener-master (1).zip', 'Flask-Url.zip', 'flask.ipynb', 'flask_eg', 'foo.txt', 'gen.txt', 'haarcascade_eye.xml', 'haarcascade_frontalface_default.xml', 'images.jpg', 'irctc.ipynb', 'kmv.txt', 'listcomprehension.ipynb', 'loginPage', 'machine learning.ipynb', 'map,reduce,filter.ipynb', 'moviedata.json', 'multithread.ipynb', 'myqr.svg', 'Names.csv', 'networking.ipynb', 'output.csv', 'regularexpresssion.ipynb', 'specialprograms.ipynb', 'TCP_IP_socket_diagram.png', 'thingsboard.ipynb', 'thread.png', 'Untitled.ipynb', 'Untitled1.ipynb', 'Untitled2.ipynb', 'we', 'weather .ipynb', 'writejson.json']\n"
     ]
    }
   ],
   "source": [
    "import os\n",
    "entries = os.listdir(\".\")  #C:\\\\Users\\\\32831\\\\Downloads\\\\t\n",
    "print(entries)"
   ]
  },
  {
   "cell_type": "code",
   "execution_count": 30,
   "metadata": {},
   "outputs": [
    {
     "name": "stdout",
     "output_type": "stream",
     "text": [
      "jupyter file  ['00-Introduction.ipynb', '01-How-to-Run-Python-Code.ipynb', '02-Basic-Python-Syntax.ipynb', '03-Semantics-Variables.ipynb', '04-Semantics-Operators.ipynb', '05-Built-in-Scalar-Types.ipynb', '06-Built-in-Data-Structures.ipynb', '07-Control-Flow-Statements.ipynb', '08-1 Functions.ipynb', '08-Defining-Functions.ipynb', '09-Errors-and-Exceptions.ipynb', '10-Iterators.ipynb', '11-List-Comprehensions.ipynb', '12-Generators.ipynb', '13-Modules-and-Packages.ipynb', '14-Strings-and-Regular-Expressions.ipynb', '15-Preview-of-Data-Science-Tools.ipynb', '17-Figures.ipynb', 'adafruit.ipynb', 'advancedclasses.ipynb', 'args and kwargs .ipynb', 'audio.ipynb', 'cardvalidator .ipynb', 'chatbot .ipynb', 'classesobjects.ipynb', 'collections.ipynb', 'filehandling .ipynb', 'flask req.ipynb', 'flask.ipynb', 'irctc.ipynb', 'listcomprehension.ipynb', 'machine learning.ipynb', 'map,reduce,filter.ipynb', 'multithread.ipynb', 'networking.ipynb', 'regularexpresssion.ipynb', 'specialprograms.ipynb', 'thingsboard.ipynb', 'Untitled.ipynb', 'Untitled1.ipynb', 'Untitled2.ipynb', 'weather .ipynb']\n",
      "unknown file  ['00-Introduction.ipynb', '01-How-to-Run-Python-Code.ipynb', '02-Basic-Python-Syntax.ipynb', '03-Semantics-Variables.ipynb', '04-Semantics-Operators.ipynb', '05-Built-in-Scalar-Types.ipynb', '06-Built-in-Data-Structures.ipynb', '07-Control-Flow-Statements.ipynb', '08-1 Functions.ipynb', '08-Defining-Functions.ipynb', '09-Errors-and-Exceptions.ipynb', '10-Iterators.ipynb', '11-List-Comprehensions.ipynb', '12-Generators.ipynb', '13-Modules-and-Packages.ipynb', '14-Strings-and-Regular-Expressions.ipynb', '15-Preview-of-Data-Science-Tools.ipynb', '17-Figures.ipynb', 'adafruit.ipynb', 'advancedclasses.ipynb', 'args and kwargs .ipynb', 'audio.ipynb', 'cardvalidator .ipynb', 'chatbot .ipynb', 'classesobjects.ipynb', 'collections.ipynb', 'filehandling .ipynb', 'flask req.ipynb', 'flask.ipynb', 'irctc.ipynb', 'listcomprehension.ipynb', 'machine learning.ipynb', 'map,reduce,filter.ipynb', 'multithread.ipynb', 'networking.ipynb', 'regularexpresssion.ipynb', 'specialprograms.ipynb', 'thingsboard.ipynb', 'Untitled.ipynb', 'Untitled1.ipynb', 'Untitled2.ipynb', 'weather .ipynb']\n"
     ]
    }
   ],
   "source": [
    "pynb = []\n",
    "unk = []\n",
    "entries = os.listdir('.')\n",
    "for entry in entries:\n",
    "    #print(entry.split(\".\")[-1])\n",
    "    if (entry.split(\".\")[-1] == \"ipynb\"):\n",
    "        pynb.append(entry)\n",
    "    else:\n",
    "        unk.append(entry)\n",
    "print(\"jupyter files\",pynb)\n",
    "print(\"unknown files \",pynb)\n",
    "    \n",
    "    "
   ]
  },
  {
   "cell_type": "code",
   "execution_count": null,
   "metadata": {},
   "outputs": [],
   "source": []
  }
 ],
 "metadata": {
  "kernelspec": {
   "display_name": "Python 3",
   "language": "python",
   "name": "python3"
  },
  "language_info": {
   "codemirror_mode": {
    "name": "ipython",
    "version": 3
   },
   "file_extension": ".py",
   "mimetype": "text/x-python",
   "name": "python",
   "nbconvert_exporter": "python",
   "pygments_lexer": "ipython3",
   "version": "3.6.5"
  }
 },
 "nbformat": 4,
 "nbformat_minor": 2
}
